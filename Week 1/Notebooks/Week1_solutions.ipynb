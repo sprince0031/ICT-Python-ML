{
 "cells": [
  {
   "cell_type": "markdown",
   "id": "752ba1ed",
   "metadata": {},
   "source": [
    "<a href=\"https://colab.research.google.com/github/sprince0031/ICT-Python-ML/blob/main/Week%201/Notebooks/Week1_solutions.ipynb\" target=\"_blank\"><img src=\"https://colab.research.google.com/assets/colab-badge.svg\" alt=\"Open In Colab\"/></a>\n",
    "# Week 1: Python & ML Foundations\n",
    "## Introduction & IDE Setup\n",
    "\n",
    "Welcome to the Week 1 tutorial and practice notebook! This notebook contains the practice exercises from the end of each video and additional challenges to hone your new knowledge."
   ]
  },
  {
   "cell_type": "markdown",
   "id": "04715149",
   "metadata": {},
   "source": [
    "## A Note on Notebook Environments (like this one!)\n",
    "\n",
    "This is a Jupyter Notebook (or Google Colab). It's an interactive environment that lets you write and run code in blocks, called **cells**.\n",
    "\n",
    "- **Code Cells**: The cells with a gray background contain Python code. You can run them by clicking on them and pressing `Shift + Enter`.\n",
    "- **Markdown Cells**: The cells with a white background (like this one) contain text, images, and links. They are for explanations and documentation.\n",
    "\n",
    "Variables you create in one cell are available in other cells (as long as you have run the first cell). This makes it a great tool for experimenting and data analysis."
   ]
  },
  {
   "cell_type": "markdown",
   "id": "fee66f01",
   "metadata": {},
   "source": [
    "## Basic Troubleshooting\n",
    "\n",
    "You will run into errors. Everyone does! The key is to read the error messages.\n",
    "\n",
    "- **`NameError`**: This usually means you tried to use a variable before you created it, or you have a typo in the variable name.\n",
    "- **`SyntaxError`**: You've made a mistake in the Python grammar, like forgetting a colon `:` at the end of a `def` or `for` line.\n",
    "- **`IndentationError`**: Python uses whitespace (spaces or tabs) to define code blocks. This error means your indentation is inconsistent or incorrect.\n",
    "\n",
    "When you get an error, read the last line. It often tells you exactly what went wrong."
   ]
  },
  {
   "cell_type": "markdown",
   "id": "4034b6c4",
   "metadata": {},
   "source": [
    "---\n",
    "# Video Challenges"
   ]
  },
  {
   "cell_type": "markdown",
   "id": "76f5e4ef",
   "metadata": {},
   "source": [
    "## Variables and basic datatypes\n",
    "Your task is to define one variable for each datatype and print its value and type using the type() and print() functions"
   ]
  },
  {
   "cell_type": "code",
   "execution_count": 1,
   "id": "9d679675",
   "metadata": {},
   "outputs": [
    {
     "name": "stdout",
     "output_type": "stream",
     "text": [
      "42 <class 'int'>\n",
      "3.14 <class 'float'>\n",
      "ICT Python ML Foundations <class 'str'>\n",
      "True <class 'bool'>\n"
     ]
    }
   ],
   "source": [
    "# Integer Data Type\n",
    "integer_data = 42\n",
    "print(integer_data, type(integer_data))\n",
    "\n",
    "# Float Data Type\n",
    "float_data = 3.14\n",
    "print(float_data, type(float_data))\n",
    "\n",
    "# String Data Type\n",
    "string_data = \"ICT Python ML Foundations\"\n",
    "print(string_data, type(string_data))\n",
    "\n",
    "# Boolean Data Type\n",
    "boolean_data = True\n",
    "print(boolean_data, type(boolean_data))"
   ]
  },
  {
   "cell_type": "markdown",
   "id": "ca3ac774",
   "metadata": {},
   "source": [
    "## Advanced datatypes: Collections\n",
    "\n",
    "### Instructions\n",
    "Consider the following example scenario and follow the instructions below to practice working with collection datatypes.\n",
    "\n",
    "1. **Data correction and validation:** The reading from sensor S03 has an invalid humidity of 105.0%. Find this dictionary in the\n",
    "`sensor_data` list and correct the `'humidity'` value to 95.0. Also, change its `'active'` status from `False` to `True`.\n",
    "2. **Add a new sensor reading:** Append a new dictionary to the `sensor_data` list with the following information:\n",
    "    - `sensor id` : 'S05'\n",
    "    - `location` : 'University of Limerick'\n",
    "    - `temp_c` : 14.2\n",
    "    - `humidity` : 89.5\n",
    "    - `active` : True\n",
    "3. **Print the updated data**"
   ]
  },
  {
   "cell_type": "code",
   "execution_count": 2,
   "id": "94d327e9",
   "metadata": {},
   "outputs": [
    {
     "name": "stdout",
     "output_type": "stream",
     "text": [
      "[{'sensor_id': 'S01', 'location': 'River Shannon', 'temp_c': 14.5, 'humidity': 88.0, 'active': True}, {'sensor_id': 'S02', 'location': \"King John's Castle\", 'temp_c': 15.0, 'humidity': 92.5, 'active': True}, {'sensor_id': 'S03', 'location': \"People's Park\", 'temp_c': 12.8, 'humidity': 95.0, 'active': True}, {'sensor_id': 'S04', 'location': 'Thomond Park', 'temp_c': 13.9, 'humidity': 85.5, 'active': True}, {'sensor_id': 'S05', 'location': 'University of Limerick', 'temp_c': 14.2, 'humidity': 89.5, 'active': True}]\n"
     ]
    }
   ],
   "source": [
    "# Raw data from multiple sensors\n",
    "sensor_data = [\n",
    "    {'sensor_id': 'S01', 'location': 'River Shannon', 'temp_c': 14.5, 'humidity': 88.0, 'active': True},\n",
    "    {'sensor_id': 'S02', 'location': 'King John\\'s Castle', 'temp_c': 15.0, 'humidity': 92.5, 'active': True},\n",
    "    {'sensor_id': 'S03', 'location': 'People\\'s Park', 'temp_c': 12.8, 'humidity': 105.0, 'active': False},\n",
    "    {'sensor_id': 'S04', 'location': 'Thomond Park', 'temp_c': 13.9, 'humidity': 85.5, 'active': True}\n",
    "]\n",
    "\n",
    "# 1. Correct S03 sensor data\n",
    "sensor_data[2]['humidity'] = 95.0\n",
    "sensor_data[2]['active'] = True\n",
    "\n",
    "# 2. Add new sensor, S05's reading to the list\n",
    "sensor_data.append({'sensor_id': 'S05', 'location': 'University of Limerick', 'temp_c': 14.2, 'humidity': 89.5, 'active': True})\n",
    "\n",
    "# 3. Print list of sensor data\n",
    "print(sensor_data)"
   ]
  },
  {
   "cell_type": "markdown",
   "id": "ac57041e",
   "metadata": {},
   "source": [
    "## Operators\n",
    "\n",
    "Your task is to write a small script that checks if a computer system meets the minimum requirements to run a program. This will test your\n",
    "use of comparison, logical, and membership operators.\n",
    "\n",
    "### Instructions \n",
    "Write and run the code to perform the following three checks. Your output for each check will be either `True` or `False`.\n",
    "1. **Memory Check:**\n",
    "Create a variable called `has_enough_memory`. It should be `True` if `memory_gb` is greater than or equal to 8. Print the variable.\n",
    "\n",
    "2. **Performance Check:**\n",
    "Create a variable called `meets_performance_reqs`. It should be `True` only if the system has more than 2 `cpu_cores` and more than 8\n",
    "GB of memory (`memory_gb`). Print the variable.\n",
    "\n",
    "3. **Software Check:**\n",
    "Create a variable called `is_python_installed`. It should be `True` if `'python'` is in the `installed_software` list. Print the variable."
   ]
  },
  {
   "cell_type": "code",
   "execution_count": 3,
   "id": "4026f4d1",
   "metadata": {},
   "outputs": [
    {
     "name": "stdout",
     "output_type": "stream",
     "text": [
      "Does system have enough memory? True\n",
      "Meets performance requirements? True\n",
      "Is Python installed? True\n"
     ]
    }
   ],
   "source": [
    "# System specifications\n",
    "memory_gb = 16\n",
    "cpu_cores = 4\n",
    "installed_software = ['python', 'git', 'docker']\n",
    "\n",
    "# Perform memory check\n",
    "has_enough_memory = memory_gb > 8\n",
    "print(f'Does system have enough memory? {has_enough_memory}')\n",
    "\n",
    "# Do performance requirements check\n",
    "meets_performance_reqs = cpu_cores > 2 and has_enough_memory\n",
    "print(f'Meets performance requirements? {meets_performance_reqs}')\n",
    "\n",
    "# Software check\n",
    "is_python_installed = 'python' in installed_software\n",
    "print(f'Is Python installed? {is_python_installed}')"
   ]
  },
  {
   "cell_type": "markdown",
   "id": "bfbaf5f1",
   "metadata": {},
   "source": [
    "---\n",
    "# Practice Challenges"
   ]
  },
  {
   "cell_type": "markdown",
   "id": "be9fd004",
   "metadata": {},
   "source": [
    "## Exercise 1: Personal Budget Calculator\n",
    "\n",
    "This exercise focuses on fundamental numeric and boolean operations. You'll create a simple calculator to check if monthly expenses are within budget.\n",
    "\n",
    "### Instructions:\n",
    "1.  **Create Variables:**\n",
    "    *   `monthly_income`: `2500.00` (float)\n",
    "    *   `expenses`: A list of your monthly bills: `[800.0, 250.0, 120.0, 300.0, 150.0]` (rent, utilities, transport, food, misc)\n",
    "    *   `is_student`: `True` (boolean)\n",
    "\n",
    "2.  **Perform Calculations:**\n",
    "    *   Calculate the `total_expenses` by summing up the items in the `expenses` list.\n",
    "    *   Calculate your `remaining_balance` by subtracting `total_expenses` from `monthly_income`.\n",
    "\n",
    "3.  **Logical Checks:**\n",
    "    *   Create a variable `is_over_budget` that is `True` if `total_expenses` is greater than `monthly_income`.\n",
    "    *   Create a variable `has_positive_balance` that is `True` if `remaining_balance` is greater than `0` AND you are a student (`is_student` is `True`).\n",
    "\n",
    "4.  **Print all your results** (`total_expenses`, `remaining_balance`, `is_over_budget`, `has_positive_balance`)."
   ]
  },
  {
   "cell_type": "code",
   "execution_count": null,
   "id": "c17ab502",
   "metadata": {},
   "outputs": [
    {
     "name": "stdout",
     "output_type": "stream",
     "text": [
      "Total Expenses: $1620.00\n",
      "Remaining Balance: $880.00\n",
      "Over Budget? False\n",
      "Has Positive Balance? True\n"
     ]
    }
   ],
   "source": [
    "# Exercise 1: Personal Budget Calculator\n",
    "\n",
    "# Create variables with given data\n",
    "monthly_income = 2500.00\n",
    "expenses = [800.00, 250.00, 120.00, 300.00, 150.00]  # Rent, Utilities, Groceries, Transport, Miscellaneous\n",
    "is_student = True\n",
    "\n",
    "# Perform calculations\n",
    "total_expenses = sum(expenses)\n",
    "remaining_balance = monthly_income - total_expenses\n",
    "\n",
    "#  Logical checks\n",
    "is_over_budget = total_expenses > monthly_income\n",
    "has_positive_balance = remaining_balance > 0 and is_student\n",
    "\n",
    "# Print results\n",
    "print(f\"Total Expenses: ${total_expenses:.2f}\")\n",
    "print(f\"Remaining Balance: ${remaining_balance:.2f}\")\n",
    "print(f\"Over Budget? {is_over_budget}\")\n",
    "print(f\"Has Positive Balance? {has_positive_balance}\")"
   ]
  },
  {
   "cell_type": "markdown",
   "id": "3ec478b7",
   "metadata": {},
   "source": [
    "## Exercise 2: Library Book Management\n",
    "\n",
    "This scenario focuses on using lists and dictionaries to manage a collection of books. You'll practice adding, updating, and crudely searching for data (if you know how to use loops already, try it! Loops and conditionals will be covered next week to round up Python fundamentals).\n",
    "\n",
    "### Instructions:\n",
    "1.  **Create a list of dictionaries** called `library_books`, with each dictionary representing a book:\n",
    "    ```python\n",
    "    library_books = [\n",
    "        {'title': 'The Lord of the Rings', 'author': 'J.R.R. Tolkien', 'year': 1954, 'available': True},\n",
    "        {'title': 'Dune', 'author': 'Frank Herbert', 'year': 1965, 'available': False},\n",
    "        {'title': 'Foundation', 'author': 'Isaac Asimov', 'year': 1951, 'available': True}\n",
    "    ]\n",
    "    ```\n",
    "\n",
    "2.  **Data Manipulation:**\n",
    "    *   A new book has arrived. **Append** a new dictionary to the list: `{'title': 'Neuromancer', 'author': 'William Gibson', 'year': 1984, 'available': True}`.\n",
    "    *   The book 'Dune' has been returned. **Find the dictionary** for 'Dune' and update its `'available'` status to `True`. \n",
    "        *   *Advanced*: If you can use loops, try looping through and matching the book names.\n",
    "\n",
    "3.  **Membership and Logical Checks:**\n",
    "    *   **Access the first book** in the list and create a variable `is_first_book_classic` that is `True` if its publication year is before 1960.\n",
    "    *   **Access the second book** and create a variable `is_second_book_available` that is `True` if its `'available'` status is `True`.\n",
    "    *   Create a variable `can_borrow_both` that is `True` only if both `is_first_book_classic` AND `is_second_book_available` are `True`.\n",
    "\n",
    "4.  **Print the updated `library_books` list** and the values of `is_first_book_classic` and `can_borrow_both`."
   ]
  },
  {
   "cell_type": "code",
   "execution_count": null,
   "id": "f02fe33b",
   "metadata": {},
   "outputs": [
    {
     "name": "stdout",
     "output_type": "stream",
     "text": [
      "[{'title': 'The Lord of the Rings', 'author': 'J.R.R. Tolkien', 'year': 1954, 'available': True}, {'title': 'Dune', 'author': 'Frank Herbert', 'year': 1965, 'available': True}, {'title': 'Foundation', 'author': 'Isaac Asimov', 'year': 1951, 'available': True}, {'title': 'Neuromancer', 'author': 'William Gibson', 'year': 1984, 'available': True}]\n",
      "Is the first book a classic? True\n",
      "Can borrow both books? True\n"
     ]
    }
   ],
   "source": [
    "# Exercise 2: Library Book Management\n",
    "\n",
    "# Create initial list of books in the library\n",
    "library_books = [\n",
    "        {'title': 'The Lord of the Rings', 'author': 'J.R.R. Tolkien', 'year': 1954, 'available': True},\n",
    "        {'title': 'Dune', 'author': 'Frank Herbert', 'year': 1965, 'available': False},\n",
    "        {'title': 'Foundation', 'author': 'Isaac Asimov', 'year': 1951, 'available': True}\n",
    "    ]\n",
    "\n",
    "# Data manipulation tasks:\n",
    "library_books.append({'title': 'Neuromancer', 'author': 'William Gibson', 'year': 1984, 'available': True})\n",
    "\n",
    "library_books[1]['available'] = True\n",
    "\n",
    "# Membership and logical checks:\n",
    "is_first_book_classic = library_books[0]['year'] < 1960\n",
    "is_second_book_available = library_books[1]['available']\n",
    "can_borrow_both = is_first_book_classic and is_second_book_available\n",
    "\n",
    "# Print values\n",
    "print(library_books)\n",
    "print(f\"Is the first book a classic? {is_first_book_classic}\")\n",
    "print(f\"Can borrow both books? {can_borrow_both}\")"
   ]
  },
  {
   "cell_type": "markdown",
   "id": "d3cae0fe",
   "metadata": {},
   "source": [
    "## Exercise 3: Social Media Post Analysis\n",
    "\n",
    "This exercise uses sets and tuples to analyze mock social media data, focusing on uniqueness and immutable data.\n",
    "\n",
    "### Instructions:\n",
    "1.  **Create Data Collections:**\n",
    "    *   `post_1_tags`: A list of tags from a user's post: `['python', 'dataScience', 'machineLearning', 'python']`\n",
    "    *   `post_2_tags`: Another list of tags: `['webDev', 'javascript', 'python', 'api']`\n",
    "    *   `user_profile`: A tuple containing a username and their join year: `('CodeMaster21', 2019)`\n",
    "\n",
    "2.  **Set Operations:**\n",
    "    *   Create a set called `unique_tags_1` from `post_1_tags` to remove duplicates.\n",
    "    *   Create a set called `unique_tags_2` from `post_2_tags`.\n",
    "    *   Find the **common tags** between both posts (tags that appear in both sets).\n",
    "    *   Find the **total unique tags** across both posts.\n",
    "\n",
    "3.  **Data Access and Checks:**\n",
    "    *   Print the username and join year from the `user_profile` tuple.\n",
    "    *   Check if the tag `'python'` is present in both `unique_tags_1` AND `unique_tags_2`. Store the result in a boolean variable `is_python_common`.\n",
    "\n",
    "4.  **Print all your results**: the common tags, the total unique tags, the user info, and the value of `is_python_common`."
   ]
  },
  {
   "cell_type": "code",
   "execution_count": null,
   "id": "fdffae05",
   "metadata": {},
   "outputs": [
    {
     "name": "stdout",
     "output_type": "stream",
     "text": [
      "username: CodeMaster69, joined: 2019\n",
      "Common tags: {'python'}\n",
      "Total unique tags: {'machineLearning', 'javascript', 'webDev', 'dataScience', 'python', 'api'}\n",
      "Is \"python\" a common tag? True\n"
     ]
    }
   ],
   "source": [
    "# Exercise 3: Social Media Post Analysis\n",
    "\n",
    "# Create variables with given data\n",
    "post_1_tags = ['python', 'dataScience', 'machineLearning', 'python']\n",
    "post_2_tags = ['webDev', 'javascript', 'python', 'api']\n",
    "user_profile = ('CodeMaster69', 2019)\n",
    "\n",
    "# Set operations\n",
    "unique_tags_1 = set(post_1_tags)\n",
    "unique_tags_2 = set(post_2_tags)\n",
    "\n",
    "common_tags = unique_tags_1.intersection(unique_tags_2)\n",
    "total_unique_tags = unique_tags_1.union(unique_tags_2)\n",
    "\n",
    "# Data access and checks\n",
    "print(f'username: {user_profile[0]}, joined: {user_profile[1]}')\n",
    "is_python_common = 'python' in common_tags\n",
    "print(f'Common tags: {common_tags}')\n",
    "print(f'Total unique tags: {total_unique_tags}')\n",
    "print(f'Is \"python\" a common tag? {is_python_common}')"
   ]
  }
 ],
 "metadata": {
  "kernelspec": {
   "display_name": "venv",
   "language": "python",
   "name": "python3"
  },
  "language_info": {
   "codemirror_mode": {
    "name": "ipython",
    "version": 3
   },
   "file_extension": ".py",
   "mimetype": "text/x-python",
   "name": "python",
   "nbconvert_exporter": "python",
   "pygments_lexer": "ipython3",
   "version": "3.12.3"
  }
 },
 "nbformat": 4,
 "nbformat_minor": 5
}
