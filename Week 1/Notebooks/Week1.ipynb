{
 "cells": [
  {
   "cell_type": "markdown",
   "id": "752ba1ed",
   "metadata": {},
   "source": [
    "<a href=\"https://colab.research.google.com/github/sprince0031/ICT-Python-ML/blob/sprince/Week%201/Notebooks/Week1.ipynb\" target=\"_blank\"><img src=\"https://colab.research.google.com/assets/colab-badge.svg\" alt=\"Open In Colab\"/></a>\n",
    "# Week 1: Python & ML Foundations\n",
    "## Introduction & IDE Setup\n",
    "\n",
    "Welcome to the Week 1 tutorial and practice notebook! This notebook contains the practice exercises from the end of each video and additional challenges to hone your new knowledge."
   ]
  },
  {
   "cell_type": "markdown",
   "id": "04715149",
   "metadata": {},
   "source": [
    "## A Note on Notebook Environments (like this one!)\n",
    "\n",
    "This is a Jupyter Notebook (or Google Colab). It's an interactive environment that lets you write and run code in blocks, called **cells**.\n",
    "\n",
    "- **Code Cells**: The cells with a gray background contain Python code. You can run them by clicking on them and pressing `Shift + Enter`.\n",
    "- **Markdown Cells**: The cells with a white background (like this one) contain text, images, and links. They are for explanations and documentation.\n",
    "\n",
    "Variables you create in one cell are available in other cells (as long as you have run the first cell). This makes it a great tool for experimenting and data analysis."
   ]
  },
  {
   "cell_type": "markdown",
   "id": "fee66f01",
   "metadata": {},
   "source": [
    "## Basic Troubleshooting\n",
    "\n",
    "You will run into errors. Everyone does! The key is to read the error messages.\n",
    "\n",
    "- **`NameError`**: This usually means you tried to use a variable before you created it, or you have a typo in the variable name.\n",
    "- **`SyntaxError`**: You've made a mistake in the Python grammar, like forgetting a colon `:` at the end of a `def` or `for` line.\n",
    "- **`IndentationError`**: Python uses whitespace (spaces or tabs) to define code blocks. This error means your indentation is inconsistent or incorrect.\n",
    "\n",
    "When you get an error, read the last line. It often tells you exactly what went wrong."
   ]
  },
  {
   "cell_type": "markdown",
   "id": "4034b6c4",
   "metadata": {},
   "source": [
    "---\n",
    "# Video Challenges"
   ]
  },
  {
   "cell_type": "markdown",
   "id": "76f5e4ef",
   "metadata": {},
   "source": [
    "## Variables and basic datatypes\n",
    "Your task is to define one variable for each datatype and print its value and type using the type() and print() functions"
   ]
  },
  {
   "cell_type": "code",
   "execution_count": null,
   "id": "9d679675",
   "metadata": {},
   "outputs": [],
   "source": [
    "# Integer Data Type\n",
    "\n",
    "# Float Data Type\n",
    "\n",
    "# String Data Type\n",
    "\n",
    "# Boolean Data Type"
   ]
  },
  {
   "cell_type": "markdown",
   "id": "ca3ac774",
   "metadata": {},
   "source": [
    "## Advanced datatypes: Collections\n",
    "\n",
    "### Instructions\n",
    "Consider the following example scenario and follow the instructions below to practice working with collection datatypes.\n",
    "\n",
    "1. **Data correction and validation:** The reading from sensor S03 has an invalid humidity of 105.0%. Find this dictionary in the\n",
    "`sensor_data` list and correct the `'humidity'` value to 95.0. Also, change its `'active'` status from `False` to `True`.\n",
    "2. **Add a new sensor reading:** Append a new dictionary to the `sensor_data` list with the following information:\n",
    "    - `sensor id` : 'S05'\n",
    "    - `location` : 'University of Limerick'\n",
    "    - `temp_c` : 14.2\n",
    "    - `humidity` : 89.5\n",
    "    - `active` : True\n",
    "3. **Print the updated data**"
   ]
  },
  {
   "cell_type": "code",
   "execution_count": null,
   "id": "94d327e9",
   "metadata": {},
   "outputs": [],
   "source": [
    "# Raw data from multiple sensors\n",
    "sensor_data = [\n",
    "    {'sensor_id': 'S01', 'location': 'River Shannon', 'temp_c': 14.5, 'humidity': 88.0, 'active': True},\n",
    "    {'sensor_id': 'S02', 'location': 'King John\\'s Castle', 'temp_c': 15.0, 'humidity': 92.5, 'active': True},\n",
    "    {'sensor_id': 'S03', 'location': 'People\\'s Park', 'temp_c': 12.8, 'humidity': 105.0, 'active': False},\n",
    "    {'sensor_id': 'S04', 'location': 'Thomond Park', 'temp_c': 13.9, 'humidity': 85.5, 'active': True}\n",
    "]"
   ]
  },
  {
   "cell_type": "code",
   "execution_count": null,
   "id": "c7dd8f29",
   "metadata": {},
   "outputs": [],
   "source": [
    "# 1. Correct S03 sensor data\n"
   ]
  },
  {
   "cell_type": "code",
   "execution_count": null,
   "id": "1e9c0ba1",
   "metadata": {},
   "outputs": [],
   "source": [
    "# 2. Add new sensor, S05's reading to the list"
   ]
  },
  {
   "cell_type": "code",
   "execution_count": null,
   "id": "6b6e8deb",
   "metadata": {},
   "outputs": [],
   "source": [
    "# 3. Print list of sensor data"
   ]
  },
  {
   "cell_type": "markdown",
   "id": "ac57041e",
   "metadata": {},
   "source": [
    "## Operators\n",
    "\n",
    "Your task is to write a small script that checks if a computer system meets the minimum requirements to run a program. This will test your\n",
    "use of comparison, logical, and membership operators.\n",
    "\n",
    "### Instructions \n",
    "Write and run the code to perform the following three checks. Your output for each check will be either `True` or `False`.\n",
    "1. **Memory Check:**\n",
    "Create a variable called `has_enough_memory`. It should be `True` if `memory_gb` is greater than or equal to 8. Print the variable.\n",
    "\n",
    "2. **Performance Check:**\n",
    "Create a variable called `meets_performance_reqs`. It should be `True` only if the system has more than 2 `cpu_cores` and more than 8\n",
    "GB of memory (`memory_gb`). Print the variable.\n",
    "\n",
    "3. **Software Check:**\n",
    "Create a variable called `is_python_installed`. It should be `True` if `'python'` is in the `installed_software` list. Print the variable."
   ]
  },
  {
   "cell_type": "code",
   "execution_count": null,
   "id": "4026f4d1",
   "metadata": {},
   "outputs": [],
   "source": [
    "# System specifications\n",
    "memory_gb = 16\n",
    "cpu_cores = 4\n",
    "installed_software = ['python', 'git', 'docker']"
   ]
  },
  {
   "cell_type": "code",
   "execution_count": null,
   "id": "c0659168",
   "metadata": {},
   "outputs": [],
   "source": [
    "# Perform memory check"
   ]
  },
  {
   "cell_type": "code",
   "execution_count": null,
   "id": "0b7113ef",
   "metadata": {},
   "outputs": [],
   "source": [
    "# Do performance requirements check"
   ]
  },
  {
   "cell_type": "code",
   "execution_count": null,
   "id": "40d04699",
   "metadata": {},
   "outputs": [],
   "source": [
    "# Software check"
   ]
  },
  {
   "cell_type": "markdown",
   "id": "bfbaf5f1",
   "metadata": {},
   "source": [
    "---\n",
    "# Practice Challenges"
   ]
  },
  {
   "cell_type": "markdown",
   "id": "be9fd004",
   "metadata": {},
   "source": []
  }
 ],
 "metadata": {
  "kernelspec": {
   "display_name": "Python 3",
   "language": "python",
   "name": "python3"
  },
  "language_info": {
   "name": "python",
   "version": "3.12.10"
  }
 },
 "nbformat": 4,
 "nbformat_minor": 5
}
