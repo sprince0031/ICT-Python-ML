{
 "cells": [
  {
   "cell_type": "markdown",
   "id": "752ba1ed",
   "metadata": {},
   "source": [
    "<a href=\"https://colab.research.google.com/github/sprince0031/ICT-Python-ML/blob/sprince/Week%201/Notebooks/Week1.ipynb\" target=\"_blank\"><img src=\"https://colab.research.google.com/assets/colab-badge.svg\" alt=\"Open In Colab\"/></a>\n",
    "# Week 1: Python & ML Foundations\n",
    "## Introduction & IDE Setup\n",
    "\n",
    "Welcome to the Week 1 tutorial! To start off, we'll get setup with Google Colab and start with some bare essentials to write our first Python program."
   ]
  },
  {
   "cell_type": "markdown",
   "id": "04715149",
   "metadata": {},
   "source": [
    "## A Note on Notebook Environments (like this one!)\n",
    "\n",
    "This is a Jupyter Notebook (or Google Colab). It's an interactive environment that lets you write and run code in blocks, called **cells**.\n",
    "\n",
    "- **Code Cells**: The cells with a gray background contain Python code. You can run them by clicking on them and pressing `Shift + Enter`.\n",
    "- **Markdown Cells**: The cells with a white background (like this one) contain text, images, and links. They are for explanations and documentation.\n",
    "\n",
    "Variables you create in one cell are available in other cells (as long as you have run the first cell). This makes it a great tool for experimenting and data analysis."
   ]
  },
  {
   "cell_type": "code",
   "execution_count": null,
   "id": "9d679675",
   "metadata": {
    "vscode": {
     "languageId": "plaintext"
    }
   },
   "outputs": [],
   "source": []
  },
  {
   "cell_type": "markdown",
   "id": "30c4dc6b",
   "metadata": {},
   "source": [
    "## Basic Troubleshooting\n",
    "\n",
    "You will run into errors. Everyone does! The key is to read the error messages.\n",
    "\n",
    "- **`NameError`**: This usually means you tried to use a variable before you created it, or you have a typo in the variable name.\n",
    "- **`SyntaxError`**: You've made a mistake in the Python grammar, like forgetting a colon `:` at the end of a `def` or `for` line.\n",
    "- **`IndentationError`**: Python uses whitespace (spaces or tabs) to define code blocks. This error means your indentation is inconsistent or incorrect.\n",
    "\n",
    "When you get an error, read the last line. It often tells you exactly what went wrong."
   ]
  }
 ],
 "metadata": {
  "language_info": {
   "name": "python"
  }
 },
 "nbformat": 4,
 "nbformat_minor": 5
}
