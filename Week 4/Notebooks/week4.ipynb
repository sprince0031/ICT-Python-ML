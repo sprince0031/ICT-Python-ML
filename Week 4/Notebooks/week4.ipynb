{
 "cells": [
  {
   "cell_type": "markdown",
   "id": "d3347a04",
   "metadata": {},
   "source": [
    "<a href=\"https://colab.research.google.com/github/sprince0031/ICT-Python-ML/blob/main/Week%204/Notebooks/week4.ipynb\" target=\"_blank\"><img src=\"https://colab.research.google.com/assets/colab-badge.svg\" alt=\"Open In Colab\"/></a>\n",
    "\n",
    "# Python and ML Foundations: Session 4\n",
    "## Data Visualization, Classification & Regression\n",
    "\n",
    "Welcome to the session 4 tutorial and companion notebook! In this session, we move from Python fundamentals and having just explored Numpy and Pandas to the core workflow of a machine learning practitioner. We'll learn how to visualize data to gain insights, build our first classification and regression models."
   ]
  },
  {
   "cell_type": "markdown",
   "id": "9e11ccf6",
   "metadata": {},
   "source": [
    "## Utility code\n",
    "The below code cell(s) contain(s) any common imports or sample data that can be useful for your exercises. Make sure to run these cells first before starting your exercises!"
   ]
  },
  {
   "cell_type": "code",
   "execution_count": null,
   "id": "baeb0315",
   "metadata": {},
   "outputs": [],
   "source": [
    "import pandas as pd\n",
    "import matplotlib.pyplot as plt\n",
    "import seaborn as sns\n",
    "import numpy as np\n",
    "\n",
    "from sklearn.model_selection import train_test_split\n",
    "from sklearn.linear_model import LinearRegression\n",
    "from sklearn.metrics import mean_squared_error\n",
    "\n",
    "sns.set_style('whitegrid') # Feel free to set your own theme. Refer: https://seaborn.pydata.org/tutorial/aesthetics.html"
   ]
  },
  {
   "cell_type": "markdown",
   "id": "768843ce",
   "metadata": {},
   "source": [
    "Run below cell to download the zip file directly from Kaggle, unzip it and load it into a Pandas dataframe.  \n",
    "\n",
    "**_Tip_**: You can run Linux terminal commands from a code cell by prefixing the command with '!' in colab"
   ]
  },
  {
   "cell_type": "code",
   "execution_count": null,
   "id": "ce509fd8",
   "metadata": {},
   "outputs": [],
   "source": [
    "# Download the Palmer Penguins dataset from Kaggle using cURL\n",
    "!curl -L -o palmer-archipelago-antarctica-penguin-data.zip https://www.kaggle.com/api/v1/datasets/download/parulpandey/palmer-archipelago-antarctica-penguin-data\n",
    "\n",
    "# Unzip the downloaded file\n",
    "!unzip -o palmer-archipelago-antarctica-penguin-data.zip\n",
    "\n",
    "# Load the dataset into a pandas DataFrame\n",
    "df = pd.read_csv('penguins_size.csv')\n",
    "df.head()"
   ]
  },
  {
   "cell_type": "markdown",
   "id": "32902941",
   "metadata": {},
   "source": [
    "---\n",
    "# Video Challenges\n",
    "## About the Palmer Penguins dataset\n",
    "This dataset is a beginner friendly dataset that is a good alternative to the `iris` dataset which was the goto one for years. You can find more information about this dataset at https://allisonhorst.github.io/palmerpenguins/\n",
    "\n",
    "Also, 'culmen' refers to the bill of penguins. :)"
   ]
  },
  {
   "cell_type": "markdown",
   "id": "398abec4",
   "metadata": {},
   "source": [
    "## 1. Data Visualisation\n",
    "Using plots and visualisations with the help of matplotlib and seaborn, visualise the data from the `palmerpenguins` dataset. Similar to last week's exercise with the video game sales dataset, see if you can answer the following analytical quuestions. This time, using plots to make it a lot easier and intuitive.\n",
    "\n",
    "**Note:** The hints below each question are just suggestions. There are more than one ways to arrive at conclusions especially with plots. Feel free to explore different plots and other interesting trends and patterns from the dataset and include them below. :)"
   ]
  },
  {
   "cell_type": "markdown",
   "id": "4486ce33",
   "metadata": {},
   "source": [
    "### Question 1: How is the body mass of penguins distributed? Are there different groups?\n",
    "***Hint:*** think which plot is used for visualising frequency counts of a feature."
   ]
  },
  {
   "cell_type": "code",
   "execution_count": null,
   "id": "29c9fadf",
   "metadata": {},
   "outputs": [],
   "source": [
    "# Explore question 1:\n"
   ]
  },
  {
   "cell_type": "markdown",
   "id": "d08b6343",
   "metadata": {},
   "source": [
    "### Question 2: Are flipper length and body mass related?\n",
    "***Bonus:*** try the scatter plot (using seaborn) here with an extra parameter, `hue` which can visualise clusters."
   ]
  },
  {
   "cell_type": "code",
   "execution_count": null,
   "id": "e2bf18d3",
   "metadata": {},
   "outputs": [],
   "source": [
    "# Explore question 2:\n"
   ]
  },
  {
   "cell_type": "markdown",
   "id": "e4d45bd4",
   "metadata": {},
   "source": [
    "### Question 3: How does body mass differ between three species of penguin?\n",
    "***Hint:*** species is a categorical feature. Think which plot is suitable for visualising spread within cateogries."
   ]
  },
  {
   "cell_type": "code",
   "execution_count": null,
   "id": "56423d2c",
   "metadata": {},
   "outputs": [],
   "source": [
    "# Explore question 3:\n"
   ]
  },
  {
   "cell_type": "markdown",
   "id": "5128f959",
   "metadata": {},
   "source": [
    "### Question 4: How do all numerical features correlate with each other?\n",
    "***Hint:*** read the question again ;)"
   ]
  },
  {
   "cell_type": "code",
   "execution_count": null,
   "id": "e52bdd59",
   "metadata": {},
   "outputs": [],
   "source": [
    "# Explore question 4:\n"
   ]
  },
  {
   "cell_type": "markdown",
   "id": "c406205e",
   "metadata": {},
   "source": [
    "## 2. Regression\n",
    "Using Scikit-learn, build a simple linear regression model to exploit the relationship between flipper length and body mass i.e., predict body mass of a penguin solely based on its flipper length attribute.  \n",
    "\n",
    "***Hint:*** if you get an error when trying to fit your regression model, take a closer look at the dataset and see if it needs cleaning."
   ]
  },
  {
   "cell_type": "code",
   "execution_count": null,
   "id": "7c0596c1",
   "metadata": {},
   "outputs": [],
   "source": [
    "# define features and target variable\n",
    "\n",
    "# train-test split\n"
   ]
  },
  {
   "cell_type": "code",
   "execution_count": null,
   "id": "2a56852c",
   "metadata": {},
   "outputs": [],
   "source": [
    "# Initialize and train a linear regression model\n"
   ]
  },
  {
   "cell_type": "code",
   "execution_count": null,
   "id": "525bd7bf",
   "metadata": {},
   "outputs": [],
   "source": [
    "# Evaluate the model and print RMSE\n"
   ]
  },
  {
   "cell_type": "markdown",
   "id": "38a6ca74",
   "metadata": {},
   "source": [
    "Uncomment and run the following code cell to visualise your linear regression model against the test dataset."
   ]
  },
  {
   "cell_type": "code",
   "execution_count": null,
   "id": "058a15bf",
   "metadata": {},
   "outputs": [],
   "source": [
    "# Plot the model's predictions against the test data\n",
    "# plt.figure(figsize=(12, 8))\n",
    "# plt.scatter(X_test, y_test, alpha=0.7, label='Actual Data (Test Set)')\n",
    "\n",
    "# test_data_sorted = X_test.sort_values(by='flipper_length_mm')\n",
    "# predictions_sorted = model.predict(test_data_sorted)\n",
    "# plt.plot(test_data_sorted, predictions_sorted, color='red', linewidth=3, label='Model\\'s Prediction Line')\n",
    "\n",
    "# plt.title('Model vs. Actual Test Data')\n",
    "# plt.xlabel('Flipper length (mm)')\n",
    "# plt.ylabel('Body mass (g)')\n",
    "# plt.legend()\n",
    "# plt.show()"
   ]
  }
 ],
 "metadata": {
  "kernelspec": {
   "display_name": "Python 3",
   "language": "python",
   "name": "python3"
  },
  "language_info": {
   "codemirror_mode": {
    "name": "ipython",
    "version": 3
   },
   "file_extension": ".py",
   "mimetype": "text/x-python",
   "name": "python",
   "nbconvert_exporter": "python",
   "pygments_lexer": "ipython3",
   "version": "3.12.10"
  }
 },
 "nbformat": 4,
 "nbformat_minor": 5
}
