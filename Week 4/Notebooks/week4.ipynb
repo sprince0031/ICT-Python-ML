{
 "cells": [
  {
   "cell_type": "markdown",
   "id": "d3347a04",
   "metadata": {},
   "source": [
    "# Week 4: Python and ML Foundations"
   ]
  },
  {
   "cell_type": "markdown",
   "id": "9e11ccf6",
   "metadata": {},
   "source": [
    "## Utility code\n",
    "The below code cell contains any common imports or sample data that can be useful for your exercises. Make sure to run this cell first before starting your exercises!"
   ]
  },
  {
   "cell_type": "markdown",
   "id": "c8149db7",
   "metadata": {},
   "source": []
  },
  {
   "cell_type": "markdown",
   "id": "32902941",
   "metadata": {},
   "source": [
    "---\n",
    "# Video Challenges"
   ]
  },
  {
   "cell_type": "markdown",
   "id": "398abec4",
   "metadata": {},
   "source": []
  }
 ],
 "metadata": {
  "language_info": {
   "name": "python"
  }
 },
 "nbformat": 4,
 "nbformat_minor": 5
}
