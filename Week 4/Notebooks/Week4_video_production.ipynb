{
  "cells": [
    {
      "cell_type": "markdown",
      "metadata": {
        "id": "Z69wOZ0vch7a"
      },
      "source": [
        "<a href=\"https://colab.research.google.com/github/sprince0031/ICT-Python-ML/blob/main/Week%204/Notebooks/Week4_video_production.ipynb\" target=\"_parent\"><img src=\"https://colab.research.google.com/assets/colab-badge.svg\" alt=\"Open In Colab\"/></a>\n",
        "\n",
        "# Python & ML Foundations: Session 4\n",
        "## Data Visualization, Classification & Regression\n",
        "\n",
        "Welcome to the session 4 reference notebook! This week, we move from Python fundamentals to the core workflow of a machine learning practitioner. We'll learn how to visualize data to gain insights, build our first classification models, and finish with the concept of regression.\n",
        "\n",
        "**Libraries for this week:**\n",
        "- `pandas`: For loading and manipulating our data.\n",
        "- `matplotlib` & `seaborn`: For data visualization.\n",
        "- `scikit-learn`: For building and evaluating our machine learning models."
      ]
    },
    {
      "cell_type": "code",
      "execution_count": null,
      "metadata": {
        "id": "bUU9lCRUch7l"
      },
      "outputs": [],
      "source": [
        "import pandas as pd\n",
        "import matplotlib.pyplot as plt\n",
        "import seaborn as sns\n",
        "sns.set_style('whitegrid')  # https://seaborn.pydata.org/tutorial/aesthetics.html\n",
        "\n",
        "# Load dataset\n",
        "df = pd.read_csv('./sample_data/california_housing_train.csv')\n",
        "df.head()"
      ]
    },
    {
      "cell_type": "markdown",
      "metadata": {
        "id": "MRmLACBBch7p"
      },
      "source": [
        "---"
      ]
    },
    {
      "cell_type": "markdown",
      "metadata": {
        "id": "7YfTV4SGch7r"
      },
      "source": [
        "## 1. Data Visualisation"
      ]
    },
    {
      "cell_type": "markdown",
      "metadata": {
        "id": "Mxx5NWSEch7r"
      },
      "source": [
        "In this section, we'll explore why visualisation is the most critical first step in any data science project. We'll use the popular libraries Matplotlib and Seaborn to understand the `California Housing Dataset`."
      ]
    },
    {
      "cell_type": "markdown",
      "metadata": {
        "id": "XIbPB6q8ch7s"
      },
      "source": [
        "### 4.1 - Histogram"
      ]
    },
    {
      "cell_type": "code",
      "execution_count": null,
      "metadata": {
        "id": "APgToYench7t"
      },
      "outputs": [],
      "source": [
        "plt.figure(figsize=(12, 7)) # width, height\n",
        "plt.hist(df['median_house_value'], bins=50, edgecolor='black')\n",
        "plt.title('Distribution of Median House Values')\n",
        "plt.xlabel('Median House Value ($)')\n",
        "plt.ylabel('Frequency (Number of Districts)')\n",
        "plt.show()"
      ]
    },
    {
      "cell_type": "code",
      "execution_count": null,
      "metadata": {
        "id": "RRCA9mh9ch7v"
      },
      "outputs": [],
      "source": [
        "df[df['median_house_value'] > 500000].describe()"
      ]
    },
    {
      "cell_type": "code",
      "execution_count": null,
      "metadata": {
        "id": "rDUks3PUch7x"
      },
      "outputs": [],
      "source": [
        "df_filtered = df[df['median_house_value'] <= 500000]"
      ]
    },
    {
      "cell_type": "code",
      "execution_count": null,
      "metadata": {
        "id": "eyO0lSHSch70"
      },
      "outputs": [],
      "source": [
        "plt.figure(figsize=(12, 7))\n",
        "plt.hist(df_filtered['median_house_value'], bins=50, edgecolor='black')\n",
        "plt.title('Distribution of Median House Values')\n",
        "plt.xlabel('Median House Value ($)')\n",
        "plt.ylabel('Frequency (Number of Districts)')\n",
        "plt.show()"
      ]
    },
    {
      "cell_type": "markdown",
      "metadata": {
        "id": "1QC3v3LLch72"
      },
      "source": [
        "### 4.2 - Scatterplot"
      ]
    },
    {
      "cell_type": "code",
      "execution_count": null,
      "metadata": {
        "id": "JXCIY-Aech72"
      },
      "outputs": [],
      "source": [
        "plt.figure(figsize=(12, 7))\n",
        "plt.scatter(df_filtered['median_income'], df_filtered['median_house_value'], alpha=0.1)\n",
        "plt.title('Median Income vs. Median House Value')\n",
        "plt.xlabel('Median Income (in tens of thousands)')\n",
        "plt.ylabel('Median House Value ($)')\n",
        "plt.show()"
      ]
    },
    {
      "cell_type": "markdown",
      "metadata": {
        "id": "yR_fjcfAch74"
      },
      "source": [
        "### Some quick data engineering\n",
        "Let's create a new feature which categorises housing data based on the `housing_median_age` feature. We want to categorise the data into 3 buckets: `New`, `Established`, `Historic`"
      ]
    },
    {
      "cell_type": "code",
      "execution_count": null,
      "metadata": {
        "id": "Qtwz8tHlch75"
      },
      "outputs": [],
      "source": [
        "def classify_age(age):\n",
        "    if age < 15:\n",
        "        return 'New'\n",
        "    elif age <= 35:\n",
        "        return 'Established'\n",
        "    else:\n",
        "        return 'Historic'\n",
        "\n",
        "df_filtered['age_category'] = df_filtered['housing_median_age'].apply(classify_age)\n",
        "\n",
        "print(\"Our new feature in action:\")\n",
        "df_filtered[['housing_median_age', 'age_category']].head()"
      ]
    },
    {
      "cell_type": "markdown",
      "metadata": {
        "id": "AbO1Czrsch75"
      },
      "source": [
        "### 4.3 - Bar plot"
      ]
    },
    {
      "cell_type": "code",
      "execution_count": null,
      "metadata": {
        "id": "FW-ahkSjch76"
      },
      "outputs": [],
      "source": [
        "plt.figure(figsize=(12, 7))\n",
        "sns.barplot(x='age_category', y='median_house_value', data=df_filtered, order=['New', 'Established', 'Historic'])\n",
        "plt.title('Average House Value by Age Category')\n",
        "plt.show()"
      ]
    },
    {
      "cell_type": "markdown",
      "metadata": {
        "id": "laeGcNjuch76"
      },
      "source": [
        "### 4.4 Box plot"
      ]
    },
    {
      "cell_type": "code",
      "execution_count": null,
      "metadata": {
        "id": "sNSdzdTtch76"
      },
      "outputs": [],
      "source": [
        "plt.figure(figsize=(12, 7))\n",
        "sns.boxplot(x='age_category', y='median_house_value', data=df_filtered, order=['New', 'Established', 'Historic'])\n",
        "plt.title('Distribution of House Values by Age Category')\n",
        "plt.show()"
      ]
    },
    {
      "cell_type": "markdown",
      "metadata": {
        "id": "pqUrhYZgch77"
      },
      "source": [
        "### 4.5 Heatmap"
      ]
    },
    {
      "cell_type": "code",
      "execution_count": null,
      "metadata": {
        "id": "9XJ54Vp7ch77"
      },
      "outputs": [],
      "source": [
        "# Get Correlation Matrix from DataFrame\n",
        "corr_matrix = df_filtered.corr(numeric_only=True)\n",
        "\n",
        "# The Plot\n",
        "plt.figure(figsize=(12, 7))\n",
        "sns.heatmap(corr_matrix, annot=True, cmap='coolwarm', fmt='.2f')\n",
        "plt.title('Correlation Matrix of All Numerical Features')\n",
        "plt.show()"
      ]
    },
    {
      "cell_type": "markdown",
      "metadata": {
        "id": "a0Vft-tvch78"
      },
      "source": [
        "---"
      ]
    },
    {
      "cell_type": "markdown",
      "metadata": {
        "id": "oc_nAoyUch7-"
      },
      "source": [
        "## 2. Regression"
      ]
    },
    {
      "cell_type": "markdown",
      "metadata": {
        "id": "D-2Z_RNich7-"
      },
      "source": [
        "Regression is one type of supervised ML where we try to predict a value on a continuous scale rather than classify into a class."
      ]
    },
    {
      "cell_type": "code",
      "execution_count": 8,
      "metadata": {
        "id": "V7DU_ksGch7_"
      },
      "outputs": [],
      "source": [
        "import pandas as pd\n",
        "import matplotlib.pyplot as plt\n",
        "import numpy as np\n",
        "\n",
        "from sklearn.model_selection import train_test_split\n",
        "from sklearn.linear_model import LinearRegression\n",
        "from sklearn.metrics import mean_squared_error\n",
        "\n",
        "# Load data and filter out the cap\n",
        "df = pd.read_csv('sample_data/california_housing_train.csv')\n",
        "df = df[df['median_house_value'] < 500001]"
      ]
    },
    {
      "cell_type": "markdown",
      "metadata": {
        "id": "WrL0btmWdLzu"
      },
      "source": [
        "### 2.1 Preparing dataset"
      ]
    },
    {
      "cell_type": "code",
      "execution_count": null,
      "metadata": {
        "colab": {
          "base_uri": "https://localhost:8080/"
        },
        "id": "3lPPYUtwdE-l",
        "outputId": "ba792beb-81d1-49f7-bb4f-5a852ede4abf"
      },
      "outputs": [],
      "source": [
        "# X must be a 2D DataFrame (features)\n",
        "\n",
        "# y can be a 1D Series (target)\n",
        "\n",
        "\n",
        "print(f\"Shape of X: {X.shape}\")\n",
        "print(f\"Shape of y: {y.shape}\")"
      ]
    },
    {
      "cell_type": "markdown",
      "metadata": {
        "id": "-dTWC3fsdkjC"
      },
      "source": [
        "### 2.2 Train-test split"
      ]
    },
    {
      "cell_type": "code",
      "execution_count": null,
      "metadata": {
        "colab": {
          "base_uri": "https://localhost:8080/"
        },
        "id": "1kve9f3WdntL",
        "outputId": "f2fa2bf0-4f49-4212-b495-1f733e5c27b8"
      },
      "outputs": [],
      "source": [
        "\n",
        "print(f\"Training samples: {len(X_train)}\")\n",
        "print(f\"Testing samples: {len(X_test)}\")"
      ]
    },
    {
      "cell_type": "markdown",
      "metadata": {
        "id": "Byau9m48dr_M"
      },
      "source": [
        "### 2.3 Implementing Linear Regression"
      ]
    },
    {
      "cell_type": "code",
      "execution_count": null,
      "metadata": {
        "colab": {
          "base_uri": "https://localhost:8080/"
        },
        "id": "EW4H8jXMdsgd",
        "outputId": "e31189ce-edf4-4528-db0c-7e446598c87b"
      },
      "outputs": [],
      "source": [
        "# 1. Initialize the model\n",
        "\n",
        "\n",
        "# 2. Train the model\n",
        "\n",
        "\n",
        "print(\"Model has been trained!\")"
      ]
    },
    {
      "cell_type": "markdown",
      "metadata": {
        "id": "7l3wp5k9d4q6"
      },
      "source": [
        "### 2.4 Checking weight and bias of model"
      ]
    },
    {
      "cell_type": "code",
      "execution_count": null,
      "metadata": {
        "colab": {
          "base_uri": "https://localhost:8080/"
        },
        "id": "_H6xETdnd473",
        "outputId": "ef3106ea-88c2-49b1-efc3-4365f29541d4"
      },
      "outputs": [],
      "source": [
        "# coef_ returns a list as each input feature will have a weight. Since we have 1 feature, we call the first value at zeroth index\n",
        "print(f\"Slope (m): {model.coef_[0]:.2f}\")\n",
        "print(f\"Intercept (b): {model.intercept_:.2f}\")"
      ]
    },
    {
      "cell_type": "markdown",
      "metadata": {
        "id": "1tyKGcKoemOV"
      },
      "source": [
        "### 2.5 Evaluating the model on test set\n",
        "We can find the mean squared error for the regression model on the test set we split the data into i.e., 20% of the data."
      ]
    },
    {
      "cell_type": "code",
      "execution_count": null,
      "metadata": {
        "colab": {
          "base_uri": "https://localhost:8080/"
        },
        "id": "nKNKgyCfem4k",
        "outputId": "b23e43b5-f363-4305-ed61-b203cb2bd353"
      },
      "outputs": [],
      "source": [
        "# Make predictions on unseen test data\n",
        "\n",
        "\n",
        "# Calculate the Mean Squared Error\n",
        "\n",
        "print(f\"Mean Squared Error (MSE): {mse:.2f}\")"
      ]
    },
    {
      "cell_type": "markdown",
      "metadata": {
        "id": "lFfDcgDCfBWU"
      },
      "source": [
        "Taking root of MSE (RMSE) for interpretability"
      ]
    },
    {
      "cell_type": "code",
      "execution_count": null,
      "metadata": {
        "colab": {
          "base_uri": "https://localhost:8080/"
        },
        "id": "FW2ZByb6fKOe",
        "outputId": "fe17234a-7b1d-4159-a180-1136654ce39b"
      },
      "outputs": [],
      "source": [
        "# Get the Root Mean Squared Error (RMSE)\n",
        "\n",
        "print(f\"Root Mean Squared Error (RMSE): ${rmse:.2f}\")"
      ]
    },
    {
      "cell_type": "markdown",
      "metadata": {
        "id": "5sgeSQwEfZnX"
      },
      "source": [
        "### 2.6 Plotting the regression line on test data"
      ]
    },
    {
      "cell_type": "code",
      "execution_count": null,
      "metadata": {
        "colab": {
          "base_uri": "https://localhost:8080/",
          "height": 564
        },
        "id": "XqVl36JOfpP4",
        "outputId": "89c296b5-9eba-4b0c-9da1-9800cd14b5fc"
      },
      "outputs": [],
      "source": [
        "plt.figure(figsize=(10, 6))\n",
        "plt.scatter(X_test, y_test, alpha=0.1, label='Actual Data (Test Set)')\n",
        "\n",
        "test_data_sorted = X_test.sort_values(by='median_income')\n",
        "predictions_sorted = model.predict(test_data_sorted) # Use trained model to predict housing prices based on sorted input feature\n",
        "plt.plot(test_data_sorted, predictions_sorted, color='red', linewidth=3, label='Model\\'s Prediction Line')\n",
        "\n",
        "plt.title('Model vs. Actual Test Data')\n",
        "plt.xlabel('Median Income')\n",
        "plt.ylabel('Median House Value')\n",
        "plt.legend()\n",
        "plt.show()"
      ]
    },
    {
      "cell_type": "markdown",
      "metadata": {
        "id": "Eo3W_uPXch7-"
      },
      "source": [
        "---"
      ]
    },
    {
      "cell_type": "markdown",
      "metadata": {
        "id": "NDITb-7_ch78"
      },
      "source": [
        "## 3. Classification"
      ]
    }
  ],
  "metadata": {
    "colab": {
      "provenance": []
    },
    "kernelspec": {
      "display_name": "Python 3",
      "language": "python",
      "name": "python3"
    },
    "language_info": {
      "codemirror_mode": {
        "name": "ipython",
        "version": 3
      },
      "file_extension": ".py",
      "mimetype": "text/x-python",
      "name": "python",
      "nbconvert_exporter": "python",
      "pygments_lexer": "ipython3",
      "version": "3.12.10"
    }
  },
  "nbformat": 4,
  "nbformat_minor": 0
}
