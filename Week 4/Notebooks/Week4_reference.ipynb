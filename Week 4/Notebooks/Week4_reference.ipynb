{
 "cells": [
  {
   "cell_type": "markdown",
   "metadata": {},
   "source": [
    "<a href=\"https://colab.research.google.com/github/sprince0031/ICT-Python-ML/blob/sprince/Week%204/Notebooks/Week4_reference.ipynb\" target=\"_parent\"><img src=\"https://colab.research.google.com/assets/colab-badge.svg\" alt=\"Open In Colab\"/></a>\n",
    "\n",
    "# Python & ML Foundations: Session 4\n",
    "## Data Visualization, Classification & Regression\n",
    "\n",
    "Welcome to the session 4 reference notebook! This week, we move from Python fundamentals to the core workflow of a machine learning practitioner. We'll learn how to visualize data to gain insights, build our first classification models, and finish with the concept of regression.\n",
    "\n",
    "**Libraries for this week:**\n",
    "- `pandas`: For loading and manipulating our data.\n",
    "- `matplotlib` & `seaborn`: For data visualization.\n",
    "- `scikit-learn`: For building and evaluating our machine learning models."
   ]
  },
  {
   "cell_type": "code",
   "execution_count": null,
   "metadata": {},
   "outputs": [],
   "source": [
    "import pandas as pd\n",
    "import matplotlib.pyplot as plt\n",
    "import seaborn as sns\n",
    "sns.set(style=\"whitegrid\")  # https://seaborn.pydata.org/tutorial/aesthetics.html\n",
    "\n",
    "# Load dataset\n",
    "df = pd.read_csv('./sample_data/california_housing_train.csv')\n",
    "df.head()"
   ]
  },
  {
   "cell_type": "markdown",
   "metadata": {},
   "source": [
    "---"
   ]
  },
  {
   "cell_type": "markdown",
   "metadata": {},
   "source": [
    "## 1. Data Visualisation"
   ]
  },
  {
   "cell_type": "markdown",
   "metadata": {},
   "source": [
    "In this section, we'll explore why visualisation is the most critical first step in any data science project. We'll use the popular libraries Matplotlib and Seaborn to understand the `California Housing Dataset`."
   ]
  },
  {
   "cell_type": "markdown",
   "metadata": {},
   "source": [
    "### 4.1 - Histogram"
   ]
  },
  {
   "cell_type": "code",
   "execution_count": null,
   "metadata": {},
   "outputs": [],
   "source": [
    "plt.figure(figsize=(12, 7)) # width, height\n",
    "plt.hist(df['median_house_value'], bins=50, edgecolor='black')\n",
    "plt.title('Distribution of Median House Values')\n",
    "plt.xlabel('Median House Value ($)')\n",
    "plt.ylabel('Frequency (Number of Districts)')\n",
    "plt.show()"
   ]
  },
  {
   "cell_type": "code",
   "execution_count": null,
   "metadata": {},
   "outputs": [],
   "source": [
    "df[df['median_house_value'] > 500000].describe()"
   ]
  },
  {
   "cell_type": "code",
   "execution_count": null,
   "metadata": {},
   "outputs": [],
   "source": [
    "df_filtered = df[df['median_house_value'] <= 500000]"
   ]
  },
  {
   "cell_type": "code",
   "execution_count": null,
   "metadata": {},
   "outputs": [],
   "source": [
    "plt.figure(figsize=(12, 7))\n",
    "plt.hist(df_filtered['median_house_value'], bins=50, edgecolor='black')\n",
    "plt.title('Distribution of Median House Values')\n",
    "plt.xlabel('Median House Value ($)')\n",
    "plt.ylabel('Frequency (Number of Districts)')\n",
    "plt.show()"
   ]
  },
  {
   "cell_type": "markdown",
   "metadata": {},
   "source": [
    "### 4.2 - Scatterplot"
   ]
  },
  {
   "cell_type": "code",
   "execution_count": null,
   "metadata": {},
   "outputs": [],
   "source": [
    "plt.figure(figsize=(12, 7))\n",
    "plt.scatter(df_filtered['median_income'], df_filtered['median_house_value'], alpha=0.1)\n",
    "plt.title('Median Income vs. Median House Value')\n",
    "plt.xlabel('Median Income (in tens of thousands)')\n",
    "plt.ylabel('Median House Value ($)')\n",
    "plt.show()"
   ]
  },
  {
   "cell_type": "markdown",
   "metadata": {},
   "source": [
    "### Some quick data engineering\n",
    "Let's create a new feature which categorises housing data based on the `housing_median_age` feature. We want to categorise the data into 3 buckets: `New`, `Established`, `Historic`"
   ]
  },
  {
   "cell_type": "code",
   "execution_count": null,
   "metadata": {},
   "outputs": [],
   "source": [
    "def classify_age(age):\n",
    "    if age < 15:\n",
    "        return 'New'\n",
    "    elif age <= 35:\n",
    "        return 'Established'\n",
    "    else:\n",
    "        return 'Historic'\n",
    "\n",
    "df_filtered['age_category'] = df_filtered['housing_median_age'].apply(classify_age)\n",
    "\n",
    "print(\"Our new feature in action:\")\n",
    "df_filtered[['housing_median_age', 'age_category']].head()"
   ]
  },
  {
   "cell_type": "markdown",
   "metadata": {},
   "source": [
    "### 4.3 - Bar plot"
   ]
  },
  {
   "cell_type": "code",
   "execution_count": null,
   "metadata": {},
   "outputs": [],
   "source": [
    "plt.figure(figsize=(12, 7))\n",
    "sns.barplot(x='age_category', y='median_house_value', data=df_filtered, order=['New', 'Established', 'Historic'])\n",
    "plt.title('Average House Value by Age Category')\n",
    "plt.show()"
   ]
  },
  {
   "cell_type": "markdown",
   "metadata": {},
   "source": [
    "## 4.4 Box plot"
   ]
  },
  {
   "cell_type": "code",
   "execution_count": null,
   "metadata": {},
   "outputs": [],
   "source": [
    "plt.figure(figsize=(12, 7))\n",
    "sns.boxplot(x='age_category', y='median_house_value', data=df_filtered, order=['New', 'Established', 'Historic'])\n",
    "plt.title('Distribution of House Values by Age Category')\n",
    "plt.show()"
   ]
  },
  {
   "cell_type": "markdown",
   "metadata": {},
   "source": [
    "## 4.5 Heatmap"
   ]
  },
  {
   "cell_type": "code",
   "execution_count": null,
   "metadata": {},
   "outputs": [],
   "source": [
    "# Get Correlation Matrix from DataFrame\n",
    "corr_matrix = df_filtered.corr(numeric_only=True)\n",
    "\n",
    "# The Plot\n",
    "plt.figure(figsize=(12, 7))\n",
    "sns.heatmap(corr_matrix, annot=True, cmap='coolwarm', fmt='.2f')\n",
    "plt.title('Correlation Matrix of All Numerical Features')\n",
    "plt.show()"
   ]
  },
  {
   "cell_type": "markdown",
   "metadata": {},
   "source": [
    "---"
   ]
  },
  {
   "cell_type": "markdown",
   "metadata": {},
   "source": [
    "## 2. Classical ML"
   ]
  },
  {
   "cell_type": "markdown",
   "metadata": {},
   "source": [
    "Now we'll build our first model. To demonstrate a critical concept, we will turn our 10-class digit problem into a **binary, imbalanced** problem: trying to identify if a digit is a '5' or not."
   ]
  },
  {
   "cell_type": "markdown",
   "metadata": {},
   "source": [
    "### 4.2.1 - Creating an Imbalanced Dataset\n",
    "\n",
    "We will define our features (X) as the pixel values and our target (y) as a boolean that is `True` only if the digit's label is 5. We will see that this creates a dataset where about 90% of the data belongs to one class ('Not 5')."
   ]
  },
  {
   "cell_type": "code",
   "execution_count": null,
   "metadata": {},
   "outputs": [],
   "source": []
  },
  {
   "cell_type": "markdown",
   "metadata": {},
   "source": [
    "### 4.2.2 - The Train-Test Split\n",
    "\n",
    "This is the most important rule in machine learning: always separate your data into a training set (for the model to learn from) and a testing set (to evaluate its performance on unseen data)."
   ]
  },
  {
   "cell_type": "code",
   "execution_count": null,
   "metadata": {},
   "outputs": [],
   "source": []
  },
  {
   "cell_type": "markdown",
   "metadata": {},
   "source": [
    "### 4.2.3 - The Accuracy Trap: Dumb vs. Real Model\n",
    "\n",
    "Let's prove that accuracy is a misleading metric here. We will build a `DummyClassifier` that always predicts the majority class ('Not 5'). Then, we'll build a real `DecisionTreeClassifier` and compare their accuracies. The results will be surprisingly similar, showing the trap of relying only on accuracy."
   ]
  },
  {
   "cell_type": "code",
   "execution_count": null,
   "metadata": {},
   "outputs": [],
   "source": []
  },
  {
   "cell_type": "markdown",
   "metadata": {},
   "source": [
    "---"
   ]
  },
  {
   "cell_type": "markdown",
   "metadata": {},
   "source": [
    "## 3. Regression"
   ]
  },
  {
   "cell_type": "markdown",
   "metadata": {},
   "source": [
    "Regression is the other type of supervised ML where we try to predict a value on a continuous scale rather than classify into a class."
   ]
  },
  {
   "cell_type": "code",
   "execution_count": null,
   "metadata": {},
   "outputs": [],
   "source": []
  }
 ],
 "metadata": {
  "kernelspec": {
   "display_name": "Python 3",
   "language": "python",
   "name": "python3"
  },
  "language_info": {
   "codemirror_mode": {
    "name": "ipython",
    "version": 3
   },
   "file_extension": ".py",
   "mimetype": "text/x-python",
   "name": "python",
   "nbconvert_exporter": "python",
   "pygments_lexer": "ipython3",
   "version": "3.12.10"
  }
 },
 "nbformat": 4,
 "nbformat_minor": 4
}
