{
  "cells": [
    {
      "cell_type": "markdown",
      "metadata": {},
      "source": [
        "<a href=\"https://colab.research.google.com/github.com/sprince0031/ICT-Python-ML/blob/main/Week 2/Week2.ipynb\" target=\"_blank\"><img src=\"https://colab.research.google.com/assets/colab-badge.svg\" alt=\"Open In Colab\"/></a>\n",
        "# Week 2: Python Foundations - Loops, Functions, and File I/O\n",
        "\n",
        "Welcome to the Week 2 tutorial! This week, we'll build upon the basics you learned in Week 1. We will cover essential concepts that will allow you to write more powerful and reusable code: loops, functions, and how to work with files."
      ]
    },
    {
      "cell_type": "markdown",
      "metadata": {},
      "source": [
        "## 1. Loops\n",
        "\n",
        "Loops are used to execute a block of code repeatedly. This is useful when you want to perform the same action on multiple items."
      ]
    },
    {
      "cell_type": "markdown",
      "metadata": {},
      "source": [
        "### 1.1 The `for` Loop\n",
        "\n",
        "A `for` loop is used for iterating over a sequence (that is either a list, a tuple, a dictionary, a set, or a string)."
      ]
    },
    {
      "cell_type": "code",
      "execution_count": 4,
      "metadata": {},
      "outputs": [
        {
          "name": "stdout",
          "output_type": "stream",
          "text": [
            "apple\n",
            "banana\n",
            "cherry\n"
          ]
        }
      ],
      "source": [
        "# Example: Looping through a list of fruits\n",
        "fruits = [\"apple\", \"banana\", \"cherry\"]\n",
        "for fruit in fruits:\n",
        "    print(fruit)"
      ]
    },
    {
      "cell_type": "code",
      "execution_count": 3,
      "metadata": {},
      "outputs": [
        {
          "name": "stdout",
          "output_type": "stream",
          "text": [
            "This is loop number: 0\n",
            "This is loop number: 1\n",
            "This is loop number: 2\n",
            "This is loop number: 3\n",
            "This is loop number: 4\n"
          ]
        }
      ],
      "source": [
        "# The range() function is often used with for loops to generate a sequence of numbers.\n",
        "for i in range(5): # This will loop from 0 to 4\n",
        "    print(f\"This is loop number: {i}\")"
      ]
    },
    {
      "cell_type": "markdown",
      "metadata": {},
      "source": [
        "### 1.2 The `while` Loop\n",
        "\n",
        "A `while` loop executes a set of statements as long as a condition is true."
      ]
    },
    {
      "cell_type": "code",
      "execution_count": 2,
      "metadata": {},
      "outputs": [
        {
          "name": "stdout",
          "output_type": "stream",
          "text": [
            "Count is: 0\n",
            "Count is: 1\n",
            "Count is: 2\n",
            "Count is: 3\n",
            "Count is: 4\n"
          ]
        }
      ],
      "source": [
        "# Example: A simple counter with a while loop\n",
        "count = 0\n",
        "while count < 5:\n",
        "    print(f\"Count is: {count}\")\n",
        "    count = count + 1 # It's important to increment the counter, otherwise the loop will run forever!"
      ]
    },
    {
      "cell_type": "markdown",
      "metadata": {},
      "source": [
        "When to use a `while` loop over a `for` loop?"
      ]
    },
    {
      "cell_type": "code",
      "execution_count": 11,
      "metadata": {},
      "outputs": [
        {
          "name": "stdout",
          "output_type": "stream",
          "text": [
            "Starting data analysis...\n",
            "[##########] 100%\n",
            "Analysis Complete!\n"
          ]
        }
      ],
      "source": [
        "import time # We need this module to pause our program\n",
        "\n",
        "progress = 0\n",
        "print(\"Starting data analysis...\")\n",
        "\n",
        "# Keep looping as long as the progress is less than 100\n",
        "while progress < 100:\n",
        "    progress += 10 # Increase progress by 10%\n",
        "    print(f\"[{'#' * (progress // 10):<10}] {progress}%\", end='\\r')\n",
        "    # The line above does a few things:\n",
        "    # '#' * (progress // 10) -> prints one '#' for every 10%\n",
        "    # :<10 -> makes sure the bar area is always 10 characters wide\n",
        "    # end='\\r' -> the carriage return moves the cursor to the beginning\n",
        "    #             of the line without moving down, so we overwrite the\n",
        "    #             previous line to create an animation effect.\n",
        "    time.sleep(0.5) # Pause for half a second to simulate work\n",
        "\n",
        "print(\"\\nAnalysis Complete!\") # Print a final message on a new line"
      ]
    },
    {
      "cell_type": "markdown",
      "metadata": {},
      "source": [
        "### Practice Question: Loops\n",
        "\n",
        "Create a `for` loop that calculates the factorial of the number 5. A factorial is the product of all positive integers up to that number (e.g., 5! = 5 * 4 * 3 * 2 * 1)."
      ]
    },
    {
      "cell_type": "code",
      "execution_count": null,
      "metadata": {},
      "outputs": [],
      "source": [
        "# Your code here"
      ]
    },
    {
      "cell_type": "markdown",
      "metadata": {},
      "source": [
        "## 2. Functions\n",
        "\n",
        "A function is a block of code which only runs when it is called.\n",
        "\n",
        "You can pass data, known as parameters or arguments, into a function.\n",
        "\n",
        "A function can return data as a result."
      ]
    },
    {
      "cell_type": "markdown",
      "metadata": {},
      "source": [
        "### 2.1 Defining and Calling a Function\n",
        "\n",
        "We use the `def` keyword to create a function."
      ]
    },
    {
      "cell_type": "code",
      "execution_count": 5,
      "metadata": {},
      "outputs": [
        {
          "name": "stdout",
          "output_type": "stream",
          "text": [
            "Hello, welcome to the tutorial!\n"
          ]
        }
      ],
      "source": [
        "# A simple function that greets the user\n",
        "def greet():\n",
        "    print(\"Hello, welcome to the tutorial!\")\n",
        "\n",
        "# To run the code inside the function, we must 'call' it\n",
        "greet()"
      ]
    },
    {
      "cell_type": "markdown",
      "metadata": {},
      "source": [
        "### 2.2 Parameters and Return Values"
      ]
    },
    {
      "cell_type": "code",
      "execution_count": null,
      "metadata": {},
      "outputs": [],
      "source": [
        "# A function that takes a name as a parameter\n",
        "def greet_person(name):\n",
        "    print(f\"Hello, {name}!\")\n",
        "\n",
        "greet_person(\"Alice\")\n",
        "greet_person(\"Bob\")"
      ]
    },
    {
      "cell_type": "code",
      "execution_count": null,
      "metadata": {},
      "outputs": [],
      "source": [
        "# A function that adds two numbers and returns the result\n",
        "def add_numbers(x, y):\n",
        "    return x + y\n",
        "\n",
        "sum_result = add_numbers(5, 3)\n",
        "print(f\"The sum is: {sum_result}\")"
      ]
    },
    {
      "cell_type": "markdown",
      "metadata": {},
      "source": [
        "### Practice Question: Functions\n",
        "\n",
        "Write a function called `calculate_area` that takes the `width` and `height` of a rectangle as parameters and returns its area."
      ]
    },
    {
      "cell_type": "code",
      "execution_count": null,
      "metadata": {},
      "outputs": [],
      "source": [
        "# Your code here"
      ]
    },
    {
      "cell_type": "markdown",
      "metadata": {},
      "source": [
        "## 3. File I/O (Input/Output)\n",
        "\n",
        "A common task in data analysis and machine learning is reading from and writing to files. Python provides simple ways to do this."
      ]
    },
    {
      "cell_type": "markdown",
      "metadata": {},
      "source": [
        "### 3.1 Writing to a File"
      ]
    },
    {
      "cell_type": "code",
      "execution_count": null,
      "metadata": {},
      "outputs": [],
      "source": [
        "# The 'with' statement is the recommended way to work with files.\n",
        "# It automatically handles closing the file for you.\n",
        "# 'w' mode is for writing. It will create the file if it doesn't exist, or overwrite it if it does.\n",
        "\n",
        "with open('my_first_file.txt', 'w') as f:\n",
        "    f.write(\"Hello from Python!\\n\")\n",
        "    f.write(\"This is the second line.\\n\")\n",
        "\n",
        "print(\"File written successfully.\")"
      ]
    },
    {
      "cell_type": "markdown",
      "metadata": {},
      "source": [
        "### 3.2 Reading from a File\n",
        "\n",
        "'r' mode is for reading."
      ]
    },
    {
      "cell_type": "code",
      "execution_count": null,
      "metadata": {},
      "outputs": [],
      "source": [
        "with open('my_first_file.txt', 'r') as f:\n",
        "    content = f.read()\n",
        "    print(\"--- File Content ---\")\n",
        "    print(content)"
      ]
    },
    {
      "cell_type": "markdown",
      "metadata": {},
      "source": [
        "### Practice Question: File I/O\n",
        "\n",
        "1. Create a list of your favorite movies (as strings).\n",
        "2. Write code that loops through your list and writes each movie title to a new file called `movies.txt`, with each movie on a new line."
      ]
    },
    {
      "cell_type": "code",
      "execution_count": null,
      "metadata": {},
      "outputs": [],
      "source": [
        "# Your code here"
      ]
    },
    {
      "cell_type": "markdown",
      "metadata": {},
      "source": [
        "## 4. A Note on Notebook Environments (like this one!)\n",
        "\n",
        "This is a Jupyter Notebook (or Google Colab). It's an interactive environment that lets you write and run code in blocks, called **cells**.\n",
        "\n",
        "- **Code Cells**: The cells with a gray background contain Python code. You can run them by clicking on them and pressing `Shift + Enter`.\n",
        "- **Markdown Cells**: The cells with a white background (like this one) contain text, images, and links. They are for explanations and documentation.\n",
        "\n",
        "Variables you create in one cell are available in other cells (as long as you have run the first cell). This makes it a great tool for experimenting and data analysis."
      ]
    },
    {
      "cell_type": "markdown",
      "metadata": {},
      "source": [
        "## 5. Basic Troubleshooting\n",
        "\n",
        "You will run into errors. Everyone does! The key is to read the error messages.\n",
        "\n",
        "- **`NameError`**: This usually means you tried to use a variable before you created it, or you have a typo in the variable name.\n",
        "- **`SyntaxError`**: You've made a mistake in the Python grammar, like forgetting a colon `:` at the end of a `def` or `for` line.\n",
        "- **`IndentationError`**: Python uses whitespace (spaces or tabs) to define code blocks. This error means your indentation is inconsistent or incorrect.\n",
        "\n",
        "When you get an error, read the last line. It often tells you exactly what went wrong."
      ]
    }
  ],
  "metadata": {
    "kernelspec": {
      "display_name": "venv",
      "language": "python",
      "name": "python3"
    },
    "language_info": {
      "codemirror_mode": {
        "name": "ipython",
        "version": 3
      },
      "file_extension": ".py",
      "mimetype": "text/x-python",
      "name": "python",
      "nbconvert_exporter": "python",
      "pygments_lexer": "ipython3",
      "version": "3.12.3"
    }
  },
  "nbformat": 4,
  "nbformat_minor": 4
}
