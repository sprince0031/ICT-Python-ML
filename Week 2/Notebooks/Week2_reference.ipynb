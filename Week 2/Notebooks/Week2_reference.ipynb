{
  "cells": [
    {
      "cell_type": "markdown",
      "metadata": {
        "colab_type": "text",
        "id": "view-in-github"
      },
      "source": [
        "<a href=\"https://colab.research.google.com/github/sprince0031/ICT-Python-ML/blob/sprince/Week%202/Notebooks/Week2_reference.ipynb\" target=\"_parent\"><img src=\"https://colab.research.google.com/assets/colab-badge.svg\" alt=\"Open In Colab\"/></a>"
      ]
    },
    {
      "cell_type": "markdown",
      "metadata": {
        "id": "btpcRvgYRs3l"
      },
      "source": [
        "\n",
        "# Week 2: Python & ML Foundations\n",
        "## Conditionals, Loops, Functions, and I/O\n",
        "\n",
        "Welcome to the Week 2 tutorial! This week, we'll build upon the basics you learned in Week 1. We will cover essential concepts that will allow you to write more powerful and reusable code: conditional statements, loops, functions, and how to input/output data."
      ]
    },
    {
      "cell_type": "code",
      "execution_count": 11,
      "metadata": {
        "id": "RKPCsTYI1dJx"
      },
      "outputs": [],
      "source": [
        "allowed_software = ['python', 'git', 'vscode', 'chrome', 'firefox']"
      ]
    },
    {
      "cell_type": "markdown",
      "metadata": {
        "id": "kTfv_T7dy0L0"
      },
      "source": [
        "## 1. Conditionals\n",
        "### 1.1 `if` ... `else`\n",
        "Conditionals are blocks of code that define the flow of your program. You will want to use this when you need to execute code based on whether a condition is true or false.\n"
      ]
    },
    {
      "cell_type": "code",
      "execution_count": 8,
      "metadata": {
        "colab": {
          "base_uri": "https://localhost:8080/"
        },
        "id": "UsDtfMow1W7d",
        "outputId": "57b5bfe9-8dc0-40cf-e3ee-b8f7207c939a"
      },
      "outputs": [
        {
          "name": "stdout",
          "output_type": "stream",
          "text": [
            "git can be installed in your computer! :)\n"
          ]
        }
      ],
      "source": [
        "# Check if particular software can be installed on a user's machine\n",
        "software_to_install = 'git'\n",
        "\n",
        "if software_to_install in allowed_software:\n",
        "  print(f'{software_to_install} can be installed in your computer! :)')\n",
        "else:\n",
        "  print(f'Sorry, {software_to_install} is not allowed to be installed. Please contact you admin.')"
      ]
    },
    {
      "cell_type": "markdown",
      "metadata": {
        "id": "17muYgyzQTe5"
      },
      "source": [
        "### 1.2 `elif`\n",
        "If you have more than 2 ways a program's flow might take for a condition, we can use the `elif` block instead of the binary `if`-`else`."
      ]
    },
    {
      "cell_type": "code",
      "execution_count": null,
      "metadata": {
        "id": "TDdbGiMcQ_69"
      },
      "outputs": [],
      "source": [
        "default_browser = 'n/a'\n",
        "if 'chrome' in allowed_software:\n",
        "  default_browser = 'chrome'\n",
        "elif 'firefox' in allowed_software:\n",
        "  default_browser = 'firefox'\n",
        "else:\n",
        "  print('No default browser set.')\n",
        "\n",
        "print(f'Default browser set to {default_browser}')"
      ]
    },
    {
      "cell_type": "markdown",
      "metadata": {
        "id": "0ILLPKiqRs3n"
      },
      "source": [
        "---\n",
        "## 2. Loops\n",
        "\n",
        "Loops are used to execute a block of code repeatedly. This is useful when you want to perform the same action on multiple items."
      ]
    },
    {
      "cell_type": "code",
      "execution_count": null,
      "metadata": {
        "id": "2vDWGOIpj8k8"
      },
      "outputs": [],
      "source": [
        "allowed_software = ['python', 'git', 'vscode', 'chrome', 'firefox']"
      ]
    },
    {
      "cell_type": "markdown",
      "metadata": {
        "id": "Uapp38hORs3n"
      },
      "source": [
        "### 2.1 The `for` Loop\n",
        "\n",
        "A `for` loop is used for iterating over a sequence (that is either a list, a tuple, a dictionary, a set, or a string)."
      ]
    },
    {
      "cell_type": "code",
      "execution_count": 2,
      "metadata": {
        "colab": {
          "base_uri": "https://localhost:8080/"
        },
        "id": "UZYhlrcCRs3o",
        "outputId": "e144ca36-27f2-4c7d-bb66-d1ce6c9bef7f"
      },
      "outputs": [
        {
          "name": "stdout",
          "output_type": "stream",
          "text": [
            "This is a list of all software you are allowed to install on your computer\n",
            "python\n",
            "git\n",
            "docker\n"
          ]
        }
      ],
      "source": [
        "# Example: Looping through a list of 'allowed software'\n",
        "print('This is a list of all software you are allowed to install on your computer')\n",
        "for software in allowed_software:\n",
        "  print(software)"
      ]
    },
    {
      "cell_type": "code",
      "execution_count": 6,
      "metadata": {
        "colab": {
          "base_uri": "https://localhost:8080/"
        },
        "id": "P77QN1SjRs3o",
        "outputId": "aa54b2df-2779-4128-f31b-b5df9e9d7662"
      },
      "outputs": [
        {
          "name": "stdout",
          "output_type": "stream",
          "text": [
            "python\n",
            "git\n",
            "docker\n"
          ]
        }
      ],
      "source": [
        "# The range() function is often used with for loops to generate a sequence of numbers.\n",
        "for i in range(len(allowed_software)):\n",
        "  print(allowed_software[i])"
      ]
    },
    {
      "cell_type": "markdown",
      "metadata": {
        "id": "Kz9vW7DzRs3o"
      },
      "source": [
        "### 2.2 The `while` Loop\n",
        "\n",
        "A `while` loop executes a set of statements as long as a condition is true."
      ]
    },
    {
      "cell_type": "code",
      "execution_count": 7,
      "metadata": {
        "colab": {
          "base_uri": "https://localhost:8080/"
        },
        "id": "LL4e_59hRs3p",
        "outputId": "4c9008b6-4669-4b2d-e728-183450dbfd08"
      },
      "outputs": [
        {
          "name": "stdout",
          "output_type": "stream",
          "text": [
            "python\n",
            "git\n",
            "docker\n"
          ]
        }
      ],
      "source": [
        "# Example: Looping through same list of software but with a while loop\n",
        "count = 0\n",
        "while count < len(allowed_software):\n",
        "  print(allowed_software[count])\n",
        "  count += 1 # IMPORTANT!!!\n"
      ]
    },
    {
      "cell_type": "markdown",
      "metadata": {
        "id": "ZFxrWVF8bCtv"
      },
      "source": [
        "### 2.3 Nested Loops\n",
        "Loops within loops!"
      ]
    },
    {
      "cell_type": "code",
      "execution_count": null,
      "metadata": {
        "id": "PL7sGXN3kDR7"
      },
      "outputs": [],
      "source": [
        "user_alloted_software = {\n",
        "    'user_1': ['python', 'git', 'chrome'],\n",
        "    'user_2': ['java', 'git', 'obsidian', 'firefox'],\n",
        "    'user_3': ['python', 'java', 'git', 'vscode']\n",
        "}"
      ]
    },
    {
      "cell_type": "code",
      "execution_count": 9,
      "metadata": {
        "colab": {
          "base_uri": "https://localhost:8080/"
        },
        "id": "5ftwYTDVGq2b",
        "outputId": "a36de889-801b-4c25-8c4d-c086b33796f8"
      },
      "outputs": [
        {
          "name": "stdout",
          "output_type": "stream",
          "text": [
            "Allowed software on user_1's machine:\n",
            "- python\n",
            "- git\n",
            "- chrome\n",
            "Allowed software on user_2's machine:\n",
            "- java\n",
            "- git\n",
            "- obsidian\n",
            "- firefox\n",
            "Allowed software on user_3's machine:\n",
            "- python\n",
            "- java\n",
            "- git\n",
            "- vscode\n"
          ]
        }
      ],
      "source": [
        "# Example: parsing a dictionary of lists\n",
        "for user in user_alloted_software:\n",
        "  print(f\"Allowed software on {user}'s machine:\")\n",
        "  for software in user_alloted_software[user]:\n",
        "    print(f'- {software}')"
      ]
    },
    {
      "cell_type": "code",
      "execution_count": 21,
      "metadata": {
        "colab": {
          "base_uri": "https://localhost:8080/"
        },
        "id": "lujOyI53hcvF",
        "outputId": "d1a1fe78-d93d-462c-df10-42068dbf69b2"
      },
      "outputs": [
        {
          "name": "stdout",
          "output_type": "stream",
          "text": [
            "Allowed software on user_1's machine:\n",
            "1. python\n",
            "2. git\n",
            "3. chrome\n",
            "Allowed software on user_2's machine:\n",
            "1. java\n",
            "2. git\n",
            "3. obsidian\n",
            "4. firefox\n",
            "Allowed software on user_3's machine:\n",
            "1. python\n",
            "2. java\n",
            "3. git\n",
            "4. vscode\n"
          ]
        }
      ],
      "source": [
        "# A more 'Pythonic' way of doing the above\n",
        "for user, software_list in user_alloted_software.items(): # items() returns (key, value) iterable object\n",
        "  print(f'Allowed software on {user}\\'s machine:')\n",
        "  for index, software in enumerate(software_list): # enumerate() returns (index, value) iterable object\n",
        "    print(f'{index + 1}. {software}')"
      ]
    },
    {
      "cell_type": "markdown",
      "metadata": {
        "id": "l1zUm0VXRs3p"
      },
      "source": [
        "### Practice Question: Loops\n",
        "\n",
        "Create a `for` loop that calculates the factorial of the number 5. A factorial is the product of all positive integers up to that number (e.g., 5! = 5 * 4 * 3 * 2 * 1)."
      ]
    },
    {
      "cell_type": "code",
      "execution_count": null,
      "metadata": {
        "id": "UWshLDnhRs3p"
      },
      "outputs": [],
      "source": [
        "# Your code here"
      ]
    },
    {
      "cell_type": "markdown",
      "metadata": {
        "id": "_er6gL1SRs3p"
      },
      "source": [
        "---\n",
        "## 3. Functions\n",
        "\n",
        "A function is a block of code which only runs when it is called.\n",
        "\n",
        "You can pass data, known as parameters or arguments, into a function.\n",
        "\n",
        "A function can return data as a result."
      ]
    },
    {
      "cell_type": "code",
      "execution_count": null,
      "metadata": {
        "id": "EhMhBjTDkzT4"
      },
      "outputs": [],
      "source": [
        "allowed_software = ['python', 'git', 'vscode', 'chrome', 'firefox']"
      ]
    },
    {
      "cell_type": "markdown",
      "metadata": {
        "id": "vYPAL3uWRs3p"
      },
      "source": [
        "### 3.1 Defining and Calling a Function\n",
        "\n",
        "We use the `def` keyword to create a function."
      ]
    },
    {
      "cell_type": "code",
      "execution_count": null,
      "metadata": {
        "id": "vlZKmamBRs3p"
      },
      "outputs": [],
      "source": [
        "# A simple function that prints list of allowed software\n",
        "def list_sw():\n",
        "  print('Allowed software list:')\n",
        "  for sw in allowed_software:\n",
        "    print(sw)\n",
        "\n",
        "list_sw()"
      ]
    },
    {
      "cell_type": "markdown",
      "metadata": {
        "id": "qtM_UHKPRs3p"
      },
      "source": [
        "### 3.2 Parameters and Return Values"
      ]
    },
    {
      "cell_type": "code",
      "execution_count": null,
      "metadata": {
        "id": "GGUlAuRek3MX"
      },
      "outputs": [],
      "source": [
        "user_alloted_software = {\n",
        "    'user_1': ['python', 'git', 'chrome'],\n",
        "    'user_2': ['java', 'git', 'obsidian', 'firefox'],\n",
        "    'user_3': ['python', 'java', 'git', 'vscode']\n",
        "}"
      ]
    },
    {
      "cell_type": "code",
      "execution_count": 18,
      "metadata": {
        "id": "l5cpL6TdRs3p"
      },
      "outputs": [],
      "source": [
        "# A function that searches list for a software and\n",
        "# returns a list of users for which it is allowed\n",
        "def sw_check(sw_name):\n",
        "  user_list = []\n",
        "  for user, sw_list in user_alloted_software.items():\n",
        "    if sw_name in sw_list:\n",
        "      user_list.append(user)\n",
        "\n",
        "  return user_list"
      ]
    },
    {
      "cell_type": "code",
      "execution_count": 19,
      "metadata": {
        "colab": {
          "base_uri": "https://localhost:8080/"
        },
        "id": "II3izcBKRs3q",
        "outputId": "7b2420a2-fcff-4a07-f472-154a960087b6"
      },
      "outputs": [
        {
          "name": "stdout",
          "output_type": "stream",
          "text": [
            "['user_3']\n",
            "['user_1', 'user_2', 'user_3']\n",
            "[]\n"
          ]
        }
      ],
      "source": [
        "print(sw_check('vscode'))\n",
        "print(sw_check('git'))\n",
        "print(sw_check('CS:Go'))"
      ]
    },
    {
      "cell_type": "markdown",
      "metadata": {
        "id": "OzlWwMvERs3q"
      },
      "source": [
        "### Practice Question: Functions\n",
        "\n",
        "Write a function called `calculate_area` that takes the `width` and `height` of a rectangle as parameters and returns its area."
      ]
    },
    {
      "cell_type": "code",
      "execution_count": null,
      "metadata": {
        "id": "t4GxbVogRs3q"
      },
      "outputs": [],
      "source": [
        "# Your code here"
      ]
    },
    {
      "cell_type": "markdown",
      "metadata": {
        "id": "XY7t6nvJRs3q"
      },
      "source": [
        "---\n",
        "## 4. I/O operations (Input/Output)"
      ]
    },
    {
      "cell_type": "markdown",
      "metadata": {
        "id": "MyRXON7CzwU_"
      },
      "source": [
        "### 4.1 User I/O\n",
        "The most basic form of input is via direct user interaction from the terminal/console/prompt."
      ]
    },
    {
      "cell_type": "code",
      "execution_count": null,
      "metadata": {
        "id": "dnq4-0At0yf_"
      },
      "outputs": [],
      "source": [
        "savePath = input('Enter file path: ')\n",
        "print(f'File path to save: {savePath}')"
      ]
    },
    {
      "cell_type": "code",
      "execution_count": 23,
      "metadata": {
        "colab": {
          "base_uri": "https://localhost:8080/"
        },
        "id": "TmlYbkFGjRuD",
        "outputId": "bb474401-1363-48e6-dd95-1f7be3a98dbf"
      },
      "outputs": [
        {
          "name": "stdout",
          "output_type": "stream",
          "text": [
            "Enter a number: 10\n"
          ]
        },
        {
          "data": {
            "text/plain": [
              "15"
            ]
          },
          "execution_count": 23,
          "metadata": {},
          "output_type": "execute_result"
        }
      ],
      "source": [
        "# NOTE: input() only returns an object of 'str' datatype\n",
        "num = int(input('Enter a number: '))\n",
        "num + 5"
      ]
    },
    {
      "cell_type": "markdown",
      "metadata": {
        "id": "OMcEpNUPRs3q"
      },
      "source": [
        "### 4.2 Writing to a File\n",
        "A common task in data analysis and machine learning is reading from and writing to files. Python provides simple ways to do this."
      ]
    },
    {
      "cell_type": "code",
      "execution_count": null,
      "metadata": {
        "id": "jRLC4ixvlCjB"
      },
      "outputs": [],
      "source": [
        "allowed_software = ['python', 'git', 'vscode', 'chrome', 'firefox']"
      ]
    },
    {
      "cell_type": "code",
      "execution_count": 16,
      "metadata": {
        "id": "o18eRJJTRs3q"
      },
      "outputs": [],
      "source": [
        "# The 'with' statement is the recommended way to work with files.\n",
        "# It automatically handles closing the file for you.\n",
        "# 'w' mode is for writing. It will create the file if it doesn't exist, or overwrite it if it does.\n",
        "\n",
        "with open('software_list.txt', 'w') as f:\n",
        "  f.write('List of allowed software:\\n')\n",
        "  for software in allowed_software:\n",
        "    f.write(f'{software}\\n')"
      ]
    },
    {
      "cell_type": "markdown",
      "metadata": {
        "id": "PZeRQm0RRs3q"
      },
      "source": [
        "### 4.3 Reading from a File\n",
        "\n",
        "'r' mode is for reading."
      ]
    },
    {
      "cell_type": "code",
      "execution_count": 17,
      "metadata": {
        "colab": {
          "base_uri": "https://localhost:8080/"
        },
        "id": "n5673KwJRs3q",
        "outputId": "ca1d05d4-51d9-43bb-88f5-683f812ebb7a"
      },
      "outputs": [
        {
          "name": "stdout",
          "output_type": "stream",
          "text": [
            "List of allowed software:\n",
            "python\n",
            "git\n",
            "vscode\n",
            "chrome\n",
            "firefox\n",
            "\n"
          ]
        }
      ],
      "source": [
        "# 'r' mode is for reading. It will raise an error if the file does not exist.\n",
        "with open('software_list.txt', 'r') as f:\n",
        "    content = f.read()\n",
        "\n",
        "print(content)"
      ]
    },
    {
      "cell_type": "markdown",
      "metadata": {
        "id": "Hq4Uwdn2Rs3q"
      },
      "source": [
        "### Practice Question: File I/O\n",
        "\n",
        "1. Create a list of your favorite movies (as strings).\n",
        "2. Write code that loops through your list and writes each movie title to a new file called `movies.txt`, with each movie on a new line.\n",
        "3. Read the file back and print the contents."
      ]
    },
    {
      "cell_type": "code",
      "execution_count": null,
      "metadata": {
        "id": "0hJl2UMSRs3q"
      },
      "outputs": [],
      "source": [
        "# Your code here\n"
      ]
    }
  ],
  "metadata": {
    "colab": {
      "include_colab_link": true,
      "provenance": []
    },
    "kernelspec": {
      "display_name": "venv",
      "language": "python",
      "name": "python3"
    },
    "language_info": {
      "codemirror_mode": {
        "name": "ipython",
        "version": 3
      },
      "file_extension": ".py",
      "mimetype": "text/x-python",
      "name": "python",
      "nbconvert_exporter": "python",
      "pygments_lexer": "ipython3",
      "version": "3.9.7"
    }
  },
  "nbformat": 4,
  "nbformat_minor": 0
}
