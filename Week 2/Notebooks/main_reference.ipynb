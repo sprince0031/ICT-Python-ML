{
  "cells": [
    {
      "cell_type": "markdown",
      "metadata": {},
      "source": [
        "<a href=\"https://colab.research.google.com/github/sprince0031/ICT-Python-ML/blob/sprince/Week%202/Week2_All_Concepts.ipynb\" target=\"_blank\"><img src=\"https://colab.research.google.com/assets/colab-badge.svg\" alt=\"Open In Colab\"/></a>\n",
        "# Week 2: Python & ML Foundations\n",
        "## Loops, Functions, and File I/O\n",
        "\n",
        "Welcome to the Week 2 reference notebook. This file contains all the demonstration code for the topics covered this week."
      ]
    },
    {
      "cell_type": "markdown",
      "metadata": {},
      "source": [
        "## Part 1: Loops"
      ]
    },
    {
      "cell_type": "markdown",
      "metadata": {},
      "source": [
        "### 1.1 The `for` Loop"
      ]
    },
    {
      "cell_type": "code",
      "execution_count": null,
      "metadata": {},
      "outputs": [],
      "source": [
        "# Example 1: Looping through a list\n",
        "fruits = [\"apple\", \"banana\", \"cherry\"]\n",
        "for fruit in fruits:\n",
        "    print(fruit)"
      ]
    },
    {
      "cell_type": "code",
      "execution_count": null,
      "metadata": {},
      "outputs": [],
      "source": [
        "# Example 2: The range() function\n",
        "for i in range(5):\n",
        "    print(f\"This is loop number: {i}\")"
      ]
    },
    {
      "cell_type": "markdown",
      "metadata": {},
      "source": [
        "### 1.2 The `while` Loop"
      ]
    },
    {
      "cell_type": "code",
      "execution_count": null,
      "metadata": {},
      "outputs": [],
      "source": [
        "# Example: A simple counter\n",
        "count = 0\n",
        "while count < len(fruits):\n",
        "    print(fruits[count])\n",
        "    count += 1"
      ]
    },
    {
      "cell_type": "code",
      "execution_count": null,
      "metadata": {},
      "outputs": [],
      "source": [
        "# Example: Simulating a process loading bar\n",
        "import time\n",
        "\n",
        "progress = 0\n",
        "while progress < 100:\n",
        "    progress += 10\n",
        "    print(f\"Processing... {progress}%\", end='\\r')\n",
        "    time.sleep(0.3)\n",
        "\n",
        "print(\"\\nProcess Complete!      \")"
      ]
    },
    {
      "cell_type": "markdown",
      "metadata": {},
      "source": [
        "### 1.3 Loop Control Statements"
      ]
    },
    {
      "cell_type": "code",
      "execution_count": null,
      "metadata": {},
      "outputs": [],
      "source": [
        "# Example of 'break'\n",
        "for number in range(10):\n",
        "    if number == 5:\n",
        "        break\n",
        "    print(number)"
      ]
    },
    {
      "cell_type": "code",
      "execution_count": null,
      "metadata": {},
      "outputs": [],
      "source": [
        "# Example of 'continue'\n",
        "for number in range(10):\n",
        "    if number % 2 == 0:\n",
        "        continue\n",
        "    print(number)"
      ]
    },
    {
      "cell_type": "code",
      "execution_count": null,
      "metadata": {},
      "outputs": [],
      "source": [
        "# Example of 'else'\n",
        "for number in range(5):\n",
        "    print(f\"Checking {number}\")\n",
        "else:\n",
        "    print(\"The loop completed without any interruption.\")"
      ]
    },
    {
      "cell_type": "markdown",
      "metadata": {},
      "source": [
        "### 1.4 Nested Loops"
      ]
    },
    {
      "cell_type": "code",
      "execution_count": null,
      "metadata": {},
      "outputs": [],
      "source": [
        "# Example: A simple coordinate grid\n",
        "for x in range(3):\n",
        "    for y in range(2):\n",
        "        print(f\"(x={x}, y={y})\")"
      ]
    },
    {
      "cell_type": "markdown",
      "metadata": {},
      "source": [
        "---\n",
        "## Part 2: Functions\n",
        "\n",
        "A function is a block of organized, reusable code that is used to perform a single, related action."
      ]
    },
    {
      "cell_type": "code",
      "execution_count": null,
      "metadata": {},
      "outputs": [],
      "source": [
        "def greet(name):\n",
        "    \"\"\"This function greets the person passed in as a parameter.\"\"\"\n",
        "    print(f\"Hello, {name}. Good morning!\")\n",
        "\n",
        "greet('Alice')"
      ]
    },
    {
      "cell_type": "markdown",
      "metadata": {},
      "source": []
    },
    {
      "cell_type": "markdown",
      "metadata": {},
      "source": []
    },
    {
      "cell_type": "markdown",
      "metadata": {},
      "source": []
    },
    {
      "cell_type": "markdown",
      "metadata": {},
      "source": []
    },
    {
      "cell_type": "markdown",
      "metadata": {},
      "source": []
    },
    {
      "cell_type": "markdown",
      "metadata": {},
      "source": [
        "---\n",
        "## Part 3: File I/O\n",
        "\n",
        "File I/O (Input/Output) allows a program to read from and write to files on the disk."
      ]
    },
    {
      "cell_type": "code",
      "execution_count": null,
      "metadata": {},
      "outputs": [],
      "source": [
        "# Writing to a file\n",
        "with open('my_file.txt', 'w') as f:\n",
        "    f.write('This is the first line.\\n')\n",
        "    f.write('This is the second line.\\n')\n",
        "\n",
        "# Reading from a file\n",
        "with open('my_file.txt', 'r') as f:\n",
        "    content = f.read()\n",
        "    print(content)"
      ]
    },
    {
      "cell_type": "markdown",
      "metadata": {},
      "source": [
        "---\n",
        "## Week 2 Challenge: Tic-Tac-Toe\n",
        "\n",
        "This section contains the progressive code for our weekly challenge."
      ]
    },
    {
      "cell_type": "markdown",
      "metadata": {},
      "source": [
        "### Part 1: Loops (Starter Code)"
      ]
    },
    {
      "cell_type": "code",
      "execution_count": null,
      "metadata": {},
      "outputs": [],
      "source": [
        "board = [' ' for _ in range(9)]\n",
        "turn = 0\n",
        "current_player = 'X'\n",
        "\n",
        "while turn < 9:\n",
        "    print(f\"\\n--- Turn {turn + 1}, Player {current_player} ---\")\n",
        "    \n",
        "    for i in range(0, 9, 3):\n",
        "        print(f\" {board[i]} | {board[i+1]} | {board[i+2]} \")\n",
        "        if i < 6:\n",
        "            print(\"---|---|---\")\n",
        "            \n",
        "    board[turn] = current_player\n",
        "    \n",
        "    if current_player == 'X':\n",
        "        current_player = 'O'\n",
        "    else:\n",
        "        current_player = 'X'\n",
        "    \n",
        "    turn += 1\n",
        "\n",
        "print(\"\\nGame Over!\")"
      ]
    }
  ],
  "metadata": {
    "kernelspec": {
      "display_name": "Python 3",
      "language": "python",
      "name": "python3"
    },
    "language_info": {
      "codemirror_mode": {
        "name": "ipython",
        "version": 3
      },
      "file_extension": ".py",
      "mimetype": "text/x-python",
      "name": "python",
      "nbconvert_exporter": "python",
      "pygments_lexer": "ipython3",
      "version": "3.9.7"
    }
  },
  "nbformat": 4,
  "nbformat_minor": 4
}
