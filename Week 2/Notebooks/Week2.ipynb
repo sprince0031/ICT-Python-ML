{
  "cells": [
    {
      "cell_type": "markdown",
      "metadata": {
        "id": "btpcRvgYRs3l"
      },
      "source": [
        "\n",
        "# Week 2: Python & ML Foundations\n",
        "## Loops, Functions, and File I/O\n",
        "\n",
        "Welcome to the Week 2 tutorial! This week, we'll build upon the basics you learned in Week 1. We will cover essential concepts that will allow you to write more powerful and reusable code: loops, functions, and how to work with files."
      ]
    },
    {
      "cell_type": "markdown",
      "metadata": {
        "id": "0ILLPKiqRs3n"
      },
      "source": [
        "## 1. Loops\n",
        "\n",
        "Loops are used to execute a block of code repeatedly. This is useful when you want to perform the same action on multiple items."
      ]
    },
    {
      "cell_type": "markdown",
      "metadata": {
        "id": "Uapp38hORs3n"
      },
      "source": [
        "### 1.1 The `for` Loop\n",
        "\n",
        "A `for` loop is used for iterating over a sequence (that is either a list, a tuple, a dictionary, a set, or a string)."
      ]
    },
    {
      "cell_type": "code",
      "execution_count": 4,
      "metadata": {
        "id": "UZYhlrcCRs3o",
        "outputId": "edaddfcb-c546-4388-fd06-d477a815031b",
        "colab": {
          "base_uri": "https://localhost:8080/"
        }
      },
      "outputs": [
        {
          "output_type": "stream",
          "name": "stdout",
          "text": [
            "apple\n",
            "banana\n",
            "cherry\n"
          ]
        }
      ],
      "source": [
        "# Example: Looping through a list of fruits\n",
        "fruits = [\"apple\", \"banana\", \"cherry\"]\n",
        "for fruit in fruits:\n",
        "    print(fruit)\n",
        "\n"
      ]
    },
    {
      "cell_type": "code",
      "execution_count": 12,
      "metadata": {
        "id": "P77QN1SjRs3o",
        "outputId": "46390191-912a-4856-cd85-8a6bc6aadcd1",
        "colab": {
          "base_uri": "https://localhost:8080/"
        }
      },
      "outputs": [
        {
          "output_type": "stream",
          "name": "stdout",
          "text": [
            "This is 0 before continue\n",
            "This is 0 after continue\n",
            "This is 1 before continue\n",
            "This is 1 after continue\n",
            "This is 2 before continue\n",
            "This is 2 after continue\n",
            "This is 3 before continue\n",
            "This is 3 after continue\n",
            "This is 4 before continue\n",
            "This is 4 after continue\n",
            "This is 5 before continue\n",
            "This is 5 after continue\n",
            "This is 6 before continue\n",
            "This is 7 before continue\n",
            "This is 8 before continue\n",
            "This is 9 before continue\n",
            "Else block\n",
            "loop done\n"
          ]
        }
      ],
      "source": [
        "# The range() function is often used with for loops to generate a sequence of numbers.\n",
        "for i in range(10):\n",
        "    print(f'This is {i} before continue')\n",
        "    if i > 5:\n",
        "        continue\n",
        "    print(f'This is {i} after continue')\n",
        "else:\n",
        "    print(\"Else block\")\n",
        "print(\"loop done\")"
      ]
    },
    {
      "cell_type": "markdown",
      "metadata": {
        "id": "Kz9vW7DzRs3o"
      },
      "source": [
        "### 1.2 The `while` Loop\n",
        "\n",
        "A `while` loop executes a set of statements as long as a condition is true."
      ]
    },
    {
      "cell_type": "code",
      "execution_count": 6,
      "metadata": {
        "id": "LL4e_59hRs3p",
        "outputId": "64e36444-d0ca-4573-862f-064320b5affd",
        "colab": {
          "base_uri": "https://localhost:8080/"
        }
      },
      "outputs": [
        {
          "output_type": "stream",
          "name": "stdout",
          "text": [
            "apple\n",
            "banana\n",
            "cherry\n"
          ]
        }
      ],
      "source": [
        "# Example: A simple counter with a while loop\n",
        "count = 0\n",
        "while count < len(fruits):\n",
        "    print(fruits[count])\n",
        "    count += 1\n",
        "\n"
      ]
    },
    {
      "cell_type": "code",
      "source": [
        "for i in range(3):\n",
        "    for j in range(3):\n",
        "        print('x', end=' | ')\n",
        "    print()"
      ],
      "metadata": {
        "id": "5ftwYTDVGq2b",
        "outputId": "46c7fa37-f31b-4467-fa76-a2d1e040f120",
        "colab": {
          "base_uri": "https://localhost:8080/"
        }
      },
      "execution_count": 15,
      "outputs": [
        {
          "output_type": "stream",
          "name": "stdout",
          "text": [
            "x | x | x | \n",
            "x | x | x | \n",
            "x | x | x | \n"
          ]
        }
      ]
    },
    {
      "cell_type": "markdown",
      "metadata": {
        "id": "l1zUm0VXRs3p"
      },
      "source": [
        "### Practice Question: Loops\n",
        "\n",
        "Create a `for` loop that calculates the factorial of the number 5. A factorial is the product of all positive integers up to that number (e.g., 5! = 5 * 4 * 3 * 2 * 1)."
      ]
    },
    {
      "cell_type": "code",
      "execution_count": null,
      "metadata": {
        "id": "UWshLDnhRs3p"
      },
      "outputs": [],
      "source": [
        "# Your code here"
      ]
    },
    {
      "cell_type": "markdown",
      "metadata": {
        "id": "_er6gL1SRs3p"
      },
      "source": [
        "## 2. Functions\n",
        "\n",
        "A function is a block of code which only runs when it is called.\n",
        "\n",
        "You can pass data, known as parameters or arguments, into a function.\n",
        "\n",
        "A function can return data as a result."
      ]
    },
    {
      "cell_type": "markdown",
      "metadata": {
        "id": "vYPAL3uWRs3p"
      },
      "source": [
        "### 2.1 Defining and Calling a Function\n",
        "\n",
        "We use the `def` keyword to create a function."
      ]
    },
    {
      "cell_type": "code",
      "execution_count": null,
      "metadata": {
        "id": "vlZKmamBRs3p"
      },
      "outputs": [],
      "source": [
        "# A simple function that greets the user\n"
      ]
    },
    {
      "cell_type": "markdown",
      "metadata": {
        "id": "qtM_UHKPRs3p"
      },
      "source": [
        "### 2.2 Parameters and Return Values"
      ]
    },
    {
      "cell_type": "code",
      "execution_count": null,
      "metadata": {
        "id": "l5cpL6TdRs3p"
      },
      "outputs": [],
      "source": [
        "# A function that takes a name as a parameter\n"
      ]
    },
    {
      "cell_type": "code",
      "execution_count": null,
      "metadata": {
        "id": "II3izcBKRs3q"
      },
      "outputs": [],
      "source": [
        "# A function that adds two numbers and returns the result\n"
      ]
    },
    {
      "cell_type": "markdown",
      "metadata": {
        "id": "OzlWwMvERs3q"
      },
      "source": [
        "### Practice Question: Functions\n",
        "\n",
        "Write a function called `calculate_area` that takes the `width` and `height` of a rectangle as parameters and returns its area."
      ]
    },
    {
      "cell_type": "code",
      "execution_count": null,
      "metadata": {
        "id": "t4GxbVogRs3q"
      },
      "outputs": [],
      "source": [
        "# Your code here"
      ]
    },
    {
      "cell_type": "markdown",
      "metadata": {
        "id": "XY7t6nvJRs3q"
      },
      "source": [
        "## 3. File I/O (Input/Output)\n",
        "\n",
        "A common task in data analysis and machine learning is reading from and writing to files. Python provides simple ways to do this."
      ]
    },
    {
      "cell_type": "markdown",
      "metadata": {
        "id": "OMcEpNUPRs3q"
      },
      "source": [
        "### 3.1 Writing to a File"
      ]
    },
    {
      "cell_type": "code",
      "execution_count": null,
      "metadata": {
        "id": "o18eRJJTRs3q"
      },
      "outputs": [],
      "source": [
        "# The 'with' statement is the recommended way to work with files.\n",
        "# It automatically handles closing the file for you.\n",
        "# 'w' mode is for writing. It will create the file if it doesn't exist, or overwrite it if it does.\n",
        "\n"
      ]
    },
    {
      "cell_type": "markdown",
      "metadata": {
        "id": "PZeRQm0RRs3q"
      },
      "source": [
        "### 3.2 Reading from a File\n",
        "\n",
        "'r' mode is for reading."
      ]
    },
    {
      "cell_type": "code",
      "execution_count": null,
      "metadata": {
        "id": "n5673KwJRs3q"
      },
      "outputs": [],
      "source": [
        "# 'r' mode is for reading. It will raise an error if the file does not exist."
      ]
    },
    {
      "cell_type": "markdown",
      "metadata": {
        "id": "Hq4Uwdn2Rs3q"
      },
      "source": [
        "### Practice Question: File I/O\n",
        "\n",
        "1. Create a list of your favorite movies (as strings).\n",
        "2. Write code that loops through your list and writes each movie title to a new file called `movies.txt`, with each movie on a new line."
      ]
    },
    {
      "cell_type": "code",
      "execution_count": null,
      "metadata": {
        "id": "0hJl2UMSRs3q"
      },
      "outputs": [],
      "source": [
        "# Your code here"
      ]
    }
  ],
  "metadata": {
    "kernelspec": {
      "display_name": "venv",
      "language": "python",
      "name": "python3"
    },
    "language_info": {
      "codemirror_mode": {
        "name": "ipython",
        "version": 3
      },
      "file_extension": ".py",
      "mimetype": "text/x-python",
      "name": "python",
      "nbconvert_exporter": "python",
      "pygments_lexer": "ipython3",
      "version": "3.9.7"
    },
    "colab": {
      "provenance": []
    }
  },
  "nbformat": 4,
  "nbformat_minor": 0
}