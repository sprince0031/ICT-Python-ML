{
  "cells": [
    {
      "cell_type": "markdown",
      "metadata": {
        "colab_type": "text",
        "id": "view-in-github"
      },
      "source": [
        "<a href=\"https://colab.research.google.com/github/sprince0031/ICT-Python-ML/blob/sprince/Week%202/Notebooks/Week2.ipynb\" target=\"_parent\"><img src=\"https://colab.research.google.com/assets/colab-badge.svg\" alt=\"Open In Colab\"/></a>"
      ]
    },
    {
      "cell_type": "markdown",
      "metadata": {
        "id": "btpcRvgYRs3l"
      },
      "source": [
        "\n",
        "# Week 2: Python & ML Foundations\n",
        "## Conditionals, Loops, Functions, and I/O\n",
        "\n",
        "Welcome to the Week 2 tutorial! This week, we'll build upon the basics you learned in Week 1. We will cover essential concepts that will allow you to write more powerful and reusable code: conditional statements, loops, functions, and how to input/output data."
      ]
    },
    {
      "cell_type": "markdown",
      "metadata": {},
      "source": [
        "## Utility code\n",
        "The below code cell contains any common imports or sample data that can be useful for your exercises. Make sure to run this cell first before starting your exercises!"
      ]
    },
    {
      "cell_type": "code",
      "execution_count": null,
      "metadata": {
        "id": "RKPCsTYI1dJx"
      },
      "outputs": [],
      "source": [
        "# Nothing to run here for now :)"
      ]
    },
    {
      "cell_type": "markdown",
      "metadata": {},
      "source": [
        "---\n",
        "# Video Challenges"
      ]
    },
    {
      "cell_type": "markdown",
      "metadata": {
        "id": "kTfv_T7dy0L0"
      },
      "source": [
        "## 1. Conditionals\n",
        "Write a Python script that assigns a letter grade based on a numerical score.\n",
        "1. Start with the given `score` variable.\n",
        "2. Write an `if-elif-else` ladder to determine the correct grade.\n",
        "3. Print the final letter grade.\n",
        "\n",
        "**Grading Criteria:**\n",
        "- 90 or above: \"A\"\n",
        "- 80 to 89: \"B\"\n",
        "- 70 to 79: \"C\"\n",
        "- 60 to 69: \"D\"\n",
        "- Below 60: \"F\""
      ]
    },
    {
      "cell_type": "code",
      "execution_count": null,
      "metadata": {
        "id": "TDdbGiMcQ_69"
      },
      "outputs": [],
      "source": [
        "# Your code here\n",
        "score = 85\n",
        "\n",
        "# print the value of grade\n",
        "# print(f'The grade assigned for score {score} is {grade}' )"
      ]
    },
    {
      "cell_type": "markdown",
      "metadata": {
        "id": "0ILLPKiqRs3n"
      },
      "source": [
        "## 2. Loops\n",
        "\n",
        "Create a `for` loop that calculates the factorial of the number 5. A factorial is the product of all positive integers up to that number (e.g., 5! = 5 * 4 * 3 * 2 * 1)."
      ]
    },
    {
      "cell_type": "code",
      "execution_count": null,
      "metadata": {
        "id": "UWshLDnhRs3p"
      },
      "outputs": [],
      "source": [
        "# Your code here\n",
        "n = 5\n",
        "\n",
        "# Print the value of factorial\n",
        "# print(f'Factorial of {n} is {factorial}')"
      ]
    },
    {
      "cell_type": "markdown",
      "metadata": {
        "id": "_er6gL1SRs3p"
      },
      "source": [
        "## 3. Functions\n",
        "\n",
        "Write a function called `calculate_area` that takes the `width` and `height` of a rectangle as parameters and returns its area."
      ]
    },
    {
      "cell_type": "code",
      "execution_count": null,
      "metadata": {
        "id": "t4GxbVogRs3q"
      },
      "outputs": [],
      "source": [
        "# Your code here\n",
        "\n",
        "\n",
        "# Print the value of area\n",
        "# print(f'Calculated area is {calculate_area(24, 69)}')"
      ]
    },
    {
      "cell_type": "markdown",
      "metadata": {
        "id": "XY7t6nvJRs3q"
      },
      "source": [
        "## 4. I/O operations (Input/Output)\n",
        "\n",
        "1. Create a list of your favorite movies (as strings).\n",
        "2. Write code that loops through your list and writes each movie title to a new file called `movies.txt`, with each movie on a new line.\n",
        "3. Read the file back and print the contents."
      ]
    },
    {
      "cell_type": "code",
      "execution_count": null,
      "metadata": {
        "id": "0hJl2UMSRs3q"
      },
      "outputs": [],
      "source": [
        "# Your code here\n",
        "\n",
        "\n",
        "# Print the contents of movies.txt\n"
      ]
    }
  ],
  "metadata": {
    "colab": {
      "include_colab_link": true,
      "provenance": []
    },
    "kernelspec": {
      "display_name": "venv",
      "language": "python",
      "name": "python3"
    },
    "language_info": {
      "codemirror_mode": {
        "name": "ipython",
        "version": 3
      },
      "file_extension": ".py",
      "mimetype": "text/x-python",
      "name": "python",
      "nbconvert_exporter": "python",
      "pygments_lexer": "ipython3",
      "version": "3.9.7"
    }
  },
  "nbformat": 4,
  "nbformat_minor": 0
}
