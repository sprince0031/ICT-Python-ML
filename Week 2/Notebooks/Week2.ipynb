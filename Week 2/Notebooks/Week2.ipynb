{
  "cells": [
    {
      "cell_type": "markdown",
      "metadata": {
        "colab_type": "text",
        "id": "view-in-github"
      },
      "source": [
        "<a href=\"https://colab.research.google.com/github/sprince0031/ICT-Python-ML/blob/main/Week%202/Notebooks/Week2.ipynb\" target=\"_blank\"><img src=\"https://colab.research.google.com/assets/colab-badge.svg\" alt=\"Open In Colab\"/></a>"
      ]
    },
    {
      "cell_type": "markdown",
      "metadata": {
        "id": "btpcRvgYRs3l"
      },
      "source": [
        "\n",
        "# Python & ML Foundations: Session 2\n",
        "## Conditionals, Loops, Functions, and I/O\n",
        "\n",
        "Welcome to the session 2 tutorial and companion notebook! This week, we'll build upon the basics you learned in Week 1. We will cover essential concepts that will allow you to write more powerful and reusable code: conditional statements, loops, functions, and how to input/output data."
      ]
    },
    {
      "cell_type": "markdown",
      "metadata": {},
      "source": [
        "## Utility code\n",
        "The below code cell contains any common imports or sample data that can be useful for your exercises. Make sure to run this cell first before starting your exercises!"
      ]
    },
    {
      "cell_type": "code",
      "execution_count": null,
      "metadata": {
        "id": "RKPCsTYI1dJx"
      },
      "outputs": [],
      "source": [
        "# Nothing to run here for now :)"
      ]
    },
    {
      "cell_type": "markdown",
      "metadata": {},
      "source": [
        "---\n",
        "# Video Challenges"
      ]
    },
    {
      "cell_type": "markdown",
      "metadata": {
        "id": "kTfv_T7dy0L0"
      },
      "source": [
        "## 1. Conditionals\n",
        "Write a Python script that assigns a letter grade based on a numerical score.\n",
        "1. Start with the given `score` variable.\n",
        "2. Write an `if-elif-else` ladder to determine the correct grade.\n",
        "3. Print the final letter grade.\n",
        "\n",
        "**Grading Criteria:**\n",
        "- 90 or above: \"A\"\n",
        "- 80 to 89: \"B\"\n",
        "- 70 to 79: \"C\"\n",
        "- 60 to 69: \"D\"\n",
        "- Below 60: \"F\""
      ]
    },
    {
      "cell_type": "code",
      "execution_count": null,
      "metadata": {
        "id": "TDdbGiMcQ_69"
      },
      "outputs": [],
      "source": [
        "# Your code here\n",
        "score = 85\n",
        "\n",
        "# print the value of grade\n",
        "# print(f'The grade assigned for score {score} is {grade}' )"
      ]
    },
    {
      "cell_type": "markdown",
      "metadata": {
        "id": "0ILLPKiqRs3n"
      },
      "source": [
        "## 2. Loops\n",
        "\n",
        "Create a `for` loop that calculates the factorial of the number 5. A factorial is the product of all positive integers up to that number (e.g., 5! = 5 * 4 * 3 * 2 * 1)."
      ]
    },
    {
      "cell_type": "code",
      "execution_count": null,
      "metadata": {
        "id": "UWshLDnhRs3p"
      },
      "outputs": [],
      "source": [
        "# Your code here\n",
        "n = 5\n",
        "\n",
        "# Print the value of factorial\n",
        "# print(f'Factorial of {n} is {factorial}')"
      ]
    },
    {
      "cell_type": "markdown",
      "metadata": {
        "id": "_er6gL1SRs3p"
      },
      "source": [
        "## 3. Functions\n",
        "\n",
        "Write a function called `calculate_area` that takes the `width` and `height` of a rectangle as parameters and returns its area."
      ]
    },
    {
      "cell_type": "code",
      "execution_count": null,
      "metadata": {
        "id": "t4GxbVogRs3q"
      },
      "outputs": [],
      "source": [
        "# Your code here\n",
        "\n",
        "\n",
        "# Print the value of area\n",
        "# print(f'Calculated area is {calculate_area(24, 69)}')"
      ]
    },
    {
      "cell_type": "markdown",
      "metadata": {
        "id": "XY7t6nvJRs3q"
      },
      "source": [
        "## 4. I/O operations (Input/Output)\n",
        "\n",
        "1. Create a list of your favorite movies (as strings).\n",
        "2. Write code that loops through your list and writes each movie title to a new file called `movies.txt`, with each movie on a new line.\n",
        "3. Read the file back and print the contents."
      ]
    },
    {
      "cell_type": "code",
      "execution_count": null,
      "metadata": {
        "id": "0hJl2UMSRs3q"
      },
      "outputs": [],
      "source": [
        "# Your code here\n",
        "\n",
        "\n",
        "# Print the contents of movies.txt\n"
      ]
    },
    {
      "cell_type": "markdown",
      "metadata": {},
      "source": [
        "---\n",
        "# Practice Challenges"
      ]
    },
    {
      "cell_type": "markdown",
      "metadata": {},
      "source": [
        "## Exercise 1: System Log Categorizer\n",
        "\n",
        "A list of log messages called `log_messages` has been provided to you. Using this, you need to categorise each message according to it's priority level.\n",
        "\n",
        "**Instructions:**\n",
        "\n",
        "1. Write a function called categorize_log(message) that takes a single log message string as a parameter.\n",
        "2. Inside the function, use an if-elif-else ladder to check the content of the message:\n",
        "    - If the string `\"ERROR\"` is in the message, return the string `\"High Priority\"`.\n",
        "    - If the string `\"WARNING\"` is in the message, return the string `\"Medium Priority\"`.\n",
        "    - Otherwise, return `\"Low Priority\"`.\n",
        "3. Use a for loop to iterate through the log_messages list.\n",
        "4. Inside the loop, call your categorize_log function for each message and print the original message along with its determined priority level.\n",
        "\n",
        "Concepts used: *`functions`*, *`loops`*, *`conditionals`*"
      ]
    },
    {
      "cell_type": "code",
      "execution_count": null,
      "metadata": {},
      "outputs": [],
      "source": [
        "# Your solution here\n",
        "\n",
        "log_messages = [\n",
        "    \"INFO: System startup complete.\",\n",
        "    \"WARNING: Disk space is running low.\",\n",
        "    \"ERROR: Failed to connect to database.\",\n",
        "    \"INFO: User logged in successfully.\",\n",
        "    \"ERROR: Null pointer exception.\"\n",
        "]\n",
        "\n",
        "# 2. Define the categorize_log function\n",
        "\n",
        "\n",
        "# 3. Loop through the messages and print the category\n",
        "\n",
        "    # print(f\"'{message}' | Category: {category}\")"
      ]
    },
    {
      "cell_type": "markdown",
      "metadata": {},
      "source": [
        "## Exercise 2: Inventory Low-Stock Alert\n",
        "You will read a simple inventory file and generate alerts for any items that are running low on stock, a fundamental task in retail and supply chain management.\n",
        "\n",
        "**Instructions:**\n",
        "1. Run the setup cell below to create a dummy data file named inventory.csv. Each line contains a product name and its current stock level.\n",
        "2. Define a variable `low_stock_threshold` and set its value to `10`.\n",
        "3. Use a `with open(...)` block to open and read `inventory.csv`.\n",
        "4. Use a `for` loop to iterate over each line in the file.\n",
        "5. Inside the loop, process each line:\n",
        "   * Split the line at the comma to separate the product name and the stock level. Hint: use in-built *attribute function*, `.split()`.\n",
        "   * Convert the stock level from a string (`str`) to an integer (`int`).\n",
        "6. Use a conditional to check if the product's `stock_level` is less than the `low_stock_threshold`.\n",
        "7. If the stock is low, print an alert to the console, including the product name and its current stock.\n",
        "\n",
        "Concepts used: *`loops`*, *`conditionals`*, *`file input (I/O)`*"
      ]
    },
    {
      "cell_type": "code",
      "execution_count": null,
      "metadata": {},
      "outputs": [],
      "source": [
        "# Run this cell first to create the data file for the exercise\n",
        "with open('inventory.csv', 'w') as f:\n",
        "    f.write(\"Laptop,8\\n\")\n",
        "    f.write(\"Keyboard,25\\n\")\n",
        "    f.write(\"Mouse,5\\n\")\n",
        "    f.write(\"Webcam,12\\n\")\n",
        "    f.write(\"Monitor,30\\n\")"
      ]
    },
    {
      "cell_type": "code",
      "execution_count": null,
      "metadata": {},
      "outputs": [],
      "source": [
        "# Your solution here\n",
        "\n",
        "# 1. Define the low stock threshold\n",
        "\n",
        "\n",
        "# 2. Open the file and loop through the lines\n",
        "\n",
        "\n",
        "# 3. For each line, parse the data and check the stock level\n",
        "\n",
        "\n",
        "# 4. Print an alert for any item with low stock\n",
        "# print(f\"ALERT: Low stock for {product_name}! Current stock: {stock_level}\")"
      ]
    },
    {
      "cell_type": "markdown",
      "metadata": {},
      "source": [
        "## Exercise 3: Personalized Marketing Email Generator\n",
        "This final challenge requires all four concepts. You will process a list of customer data, use a function to generate personalized email content, and save each email to its own text file.\n",
        "\n",
        "**Instructions:**  \n",
        "Start with the given list of dictionaries called `customers`. Each dictionary contains a customer's name and their subscription plan.\n",
        "1. Write a function named `generate_email(customer)` that accepts a single customer dictionary as a parameter.\n",
        "   - Inside this function, use an `if-elif-else` conditional ladder based on the customer's `'plan'`.\n",
        "   - Customise the main body template below according to pesonalised strings for each of the plans.\n",
        "   ```txt\n",
        "      Dear {name},\n",
        "\n",
        "      Thank you for being a valued {plan} plan customer. {custom_message}.\n",
        "\n",
        "      Best regards,\n",
        "      The Team\n",
        "   ```\n",
        "    \n",
        "   - If the plan is `'Premium'`, use a personalized string as the `custom_message` like\n",
        "     ```Python\n",
        "     \"As a Premium member, you get exclusive access to our new features.\"\n",
        "     ```\n",
        "   -  If the plan is `'Basic'`, return a marketing string as the `custom_message` like \n",
        "      ```Python\n",
        "      \"Did you know you can upgrade to our Premium plan for just €5 more a month?\"\n",
        "      ```\n",
        "   - Otherwise, return a generic string as the `custom_message`: \n",
        "     ```Python\n",
        "     \"We are excited to see you grow with our family and discover all our offerings!.\"\n",
        "     ```\n",
        "2. Write a for loop that iterates through the customers list.\n",
        "3. Inside the loop:\n",
        "   - Call your `generate_email()` function with the current customer dictionary to get the personalized email body.\n",
        "   - Create a unique filename for each customer, for example, `email_for_Alice.txt`.\n",
        "   - Open the generated filename in write mode (`'w'`) and write the email body to the file.\n",
        "4. After the loop finishes, print a confirmation message to the console, like `\"Personalized emails generated for all customers.\"`\n",
        "\n",
        "Concepts used: *`functions`*, *`conditionals`*, *`loops`*, *`file I/O`*"
      ]
    },
    {
      "cell_type": "code",
      "execution_count": null,
      "metadata": {},
      "outputs": [],
      "source": [
        "# Your solution here\n",
        "\n",
        "# Initial customer data\n",
        "customers = [\n",
        "    {'name': 'Alice', 'plan': 'Premium'},\n",
        "    {'name': 'Bob', 'plan': 'Basic'},\n",
        "    {'name': 'Charlie', 'plan': 'Premium'},\n",
        "    {'name': 'Diana', 'plan': 'Free'}\n",
        "]\n",
        "\n",
        "# 2. Define the generate_email function\n",
        "\n",
        "\n",
        "# 3. Loop through customers, generate email content, and write to unique files\n",
        "\n",
        "\n",
        "# 4. Print confirmation message\n"
      ]
    }
  ],
  "metadata": {
    "colab": {
      "include_colab_link": true,
      "provenance": []
    },
    "kernelspec": {
      "display_name": "Python 3",
      "language": "python",
      "name": "python3"
    },
    "language_info": {
      "codemirror_mode": {
        "name": "ipython",
        "version": 3
      },
      "file_extension": ".py",
      "mimetype": "text/x-python",
      "name": "python",
      "nbconvert_exporter": "python",
      "pygments_lexer": "ipython3",
      "version": "3.12.10"
    }
  },
  "nbformat": 4,
  "nbformat_minor": 0
}
