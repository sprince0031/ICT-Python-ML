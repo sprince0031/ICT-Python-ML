{
  "nbformat": 4,
  "nbformat_minor": 0,
  "metadata": {
    "colab": {
      "provenance": [],
      "include_colab_link": true
    },
    "kernelspec": {
      "name": "python3",
      "display_name": "Python 3"
    },
    "language_info": {
      "name": "python"
    }
  },
  "cells": [
    {
      "cell_type": "markdown",
      "metadata": {
        "id": "view-in-github",
        "colab_type": "text"
      },
      "source": [
        "<a href=\"https://colab.research.google.com/github/sprince0031/ICT-Python-ML/blob/thendral/Week%203/Notebooks/Week_3_solutions.ipynb\" target=\"_parent\"><img src=\"https://colab.research.google.com/assets/colab-badge.svg\" alt=\"Open In Colab\"/></a>"
      ]
    },
    {
      "cell_type": "markdown",
      "source": [
        "<a href=\"https://colab.research.google.com/github/sprince0031/ICT-Python-ML/blob/main/Week%203/Notebooks/Week3.ipynb\" target=\"_parent\"><img src=\"https://colab.research.google.com/assets/colab-badge.svg\" alt=\"Open In Colab\"/></a>\n",
        "\n",
        "# Python & ML Foundations: Session 3\n",
        "## NumPy & Pandas\n",
        "\n",
        "Welcome to the session 3 tutorial and companion notebook! This week, we'll learn to do basic mathematical operations of n-dimensional arrays using NumPy and pre-process a real-world housing dataset that's available in colab's sample folder."
      ],
      "metadata": {
        "id": "PsncOm87G2dw"
      }
    },
    {
      "cell_type": "markdown",
      "source": [
        "## Utility code\n",
        "The below code cell contains any common imports or sample data that can be useful for your exercises. Make sure to run this cell first before starting your exercises!"
      ],
      "metadata": {
        "id": "EuDY4tIMHkKL"
      }
    },
    {
      "cell_type": "code",
      "execution_count": null,
      "metadata": {
        "id": "N53bHilbGlHe"
      },
      "outputs": [],
      "source": [
        "import pandas as pd\n",
        "import numpy as np"
      ]
    },
    {
      "cell_type": "markdown",
      "source": [
        "---\n",
        "# Video Challenges"
      ],
      "metadata": {
        "id": "9y2hDyHsHoTL"
      }
    },
    {
      "cell_type": "markdown",
      "source": [
        "## **1. NumPy**\n",
        "\n",
        "This assignment tests your ability to use NumPy to prepare a dataset for a machine learning task. Use np.random.seed(42) to ensure your results are reproducible.\n",
        "\n",
        "### **Create a Dataset**\n",
        "Create a 10x4 NumPy array representing 10 houses with the following columns:\n",
        "* **Square Footage:** Random integers from 1000 to 3000\n",
        "* **Bedrooms:** Random integers from 2 to 6\n",
        "* **House Age:** Random integers from 1 to 50\n",
        "* **House Price:** Random floats from 150.0 to 750.0\n",
        "\n",
        "Print the resulting array\n",
        "\n",
        "### **Filter the Data**\n",
        "Using boolean indexing, create a new array containing only the houses with more than 3 bedrooms and an age of less than 20 years.\n",
        "\n",
        "Print the filtered array and its `.shape`.\n"
      ],
      "metadata": {
        "id": "QfDRQJJ0Hshx"
      }
    },
    {
      "cell_type": "code",
      "source": [
        "# Your code here\n",
        "\n",
        "sq_footage = np.random.randint(1000, 3001, size = (10,1))\n",
        "\n",
        "bedrooms = np.random.randint(2,7, size = (10,1))\n",
        "\n",
        "house_age = np.random.randint(1,51, size = (10,1))\n",
        "house_price = np.random.uniform(150.0, 750.1, size=(10,1))\n",
        "\n",
        "house_data = np.hstack((sq_footage, bedrooms, house_age, house_price))\n",
        "\n",
        "print(\" Original House Data (10x4 Array)\")\n",
        "print(house_data)\n",
        "\n",
        "\n"
      ],
      "metadata": {
        "id": "ftbMEuCeNmJS"
      },
      "execution_count": null,
      "outputs": []
    },
    {
      "cell_type": "code",
      "source": [
        "more_than_3_bedrooms = house_data[:,1] > 3\n",
        "\n",
        "age_less_than_20 = house_data[:,2] < 20\n",
        "\n",
        "combined_filter = more_than_3_bedrooms & age_less_than_20\n",
        "\n",
        "filtered_houses = house_data[combined_filter]\n",
        "\n",
        "print(\"Filtered House Data (10x4 Array)\")\n",
        "print(filtered_houses)\n",
        "print(filtered_houses.shape)\n"
      ],
      "metadata": {
        "id": "HDOOMpraQnni"
      },
      "execution_count": null,
      "outputs": []
    },
    {
      "cell_type": "markdown",
      "source": [
        "## **2. Pandas**\n",
        "\n",
        "**Run the Data Corruption Code:**\n",
        "\n",
        "It will load the test dataset and introduce several common data quality issues."
      ],
      "metadata": {
        "id": "3SkAxt8VIFwp"
      }
    },
    {
      "cell_type": "code",
      "source": [
        "# --- RUN THIS CODE FIRST ---\n",
        "# This code will create a corrupted DataFrame for you to fix.\n",
        "\n",
        "# Load the test dataset\n",
        "test_path = '/content/sample_data/california_housing_test.csv'\n",
        "df_challenge = pd.read_csv(test_path)\n",
        "\n",
        "# Introduce NaN values\n",
        "df_challenge.loc[[5, 20, 50], 'total_rooms'] = np.nan\n",
        "df_challenge.loc[[10, 30, 60], 'population'] = np.nan\n",
        "\n",
        "# Introduce extreme outliers\n",
        "df_challenge.loc[[100, 200], 'housing_median_age'] = 999\n",
        "\n",
        "# Introduce incorrect data type\n",
        "df_challenge['households'] = df_challenge['households'].astype(str)\n",
        "\n",
        "print(\"--- Corrupted Dataset is Ready ---\")\n",
        "df_challenge.info()"
      ],
      "metadata": {
        "id": "ZqmSnkD1NoP_"
      },
      "execution_count": null,
      "outputs": []
    },
    {
      "cell_type": "markdown",
      "source": [
        "**Clean the Data**\n",
        "\n",
        "Now, write the code to fix the `df_challenge` DataFrame.\n",
        "\n",
        " * **Inspect the Damage:** After running the code above, use .info() and .describe() to identify all the problems that were introduced.\n",
        "\n",
        " * **Fix Data Types:**  The households column was incorrectly converted to an object (string). Convert it back to a numeric type. Hint: Use pd.to_numeric()\n",
        "\n",
        " * **Handle Missing Values:** Fill the `Nan` values in total_rooms and population with their respective means.\n",
        "\n",
        " * **Handle Outliers:** The `housing_median_age` column now has unrealistic values. Filter the DataFrame to remove any rows where `housing_median_age` is greater than 90.\n",
        "\n",
        " Print the `.info()` and `.describe()` outputs of your final, cleaned DataFrame to prove that all the issues have been resolved."
      ],
      "metadata": {
        "id": "ZzqU2E_wN5GY"
      }
    },
    {
      "cell_type": "code",
      "source": [
        "# Your code here\n",
        "df_challenge.info()"
      ],
      "metadata": {
        "id": "mImIbCpKN5nZ"
      },
      "execution_count": null,
      "outputs": []
    },
    {
      "cell_type": "code",
      "source": [
        "df_challenge.describe()"
      ],
      "metadata": {
        "id": "u8KTVsqZRnv4"
      },
      "execution_count": null,
      "outputs": []
    },
    {
      "cell_type": "code",
      "source": [
        "df_challenge['households'] = df_challenge['households'].astype(float)"
      ],
      "metadata": {
        "id": "n_f3tZ6gRtxh"
      },
      "execution_count": null,
      "outputs": []
    },
    {
      "cell_type": "code",
      "source": [
        "df_challenge.info()"
      ],
      "metadata": {
        "id": "QoUCk4kER3R_"
      },
      "execution_count": null,
      "outputs": []
    },
    {
      "cell_type": "code",
      "source": [
        "total_rooms_mean = df_challenge['total_rooms'].mean()\n",
        "population_mean = df_challenge['population'].mean()\n",
        "\n",
        "df_challenge.fillna({'total_rooms': total_rooms_mean, 'population': population_mean}, inplace = True)"
      ],
      "metadata": {
        "id": "hWgH3EJ5R_XJ"
      },
      "execution_count": null,
      "outputs": []
    },
    {
      "cell_type": "code",
      "source": [
        "df_challenge.info()"
      ],
      "metadata": {
        "id": "NSf7qvZISUNS"
      },
      "execution_count": null,
      "outputs": []
    },
    {
      "cell_type": "code",
      "source": [
        "print(df_challenge[df_challenge['housing_median_age']>=90])"
      ],
      "metadata": {
        "id": "EiVveVMXSoU1"
      },
      "execution_count": null,
      "outputs": []
    },
    {
      "cell_type": "code",
      "source": [
        "df_filtered = df_challenge[df_challenge['housing_median_age'] < 90]"
      ],
      "metadata": {
        "id": "cRr3UolPSdh4"
      },
      "execution_count": null,
      "outputs": []
    },
    {
      "cell_type": "code",
      "source": [
        "df_filtered.info()"
      ],
      "metadata": {
        "id": "gIBqZ_KJebif"
      },
      "execution_count": null,
      "outputs": []
    },
    {
      "cell_type": "code",
      "source": [
        "print(df_filtered[df_filtered['housing_median_age']>=90])"
      ],
      "metadata": {
        "id": "RTd9yN9IeGNQ"
      },
      "execution_count": null,
      "outputs": []
    },
    {
      "cell_type": "markdown",
      "source": [
        "## Practice Challenges"
      ],
      "metadata": {
        "id": "_R7t856WNiXS"
      }
    },
    {
      "cell_type": "markdown",
      "source": [
        "### **Video Game Sales Analysis**\n",
        "\n",
        "This exercise will guide you through a basic data analysis project to practice your data loading, cleaning, and exploration skills using pandas for data manipulation and numpy for numerical calculations.\n",
        "\n",
        " We will be using the Video Game Sales dataset from Kaggle.\n",
        " * You can download it here: https://www.kaggle.com/datasets/gregorut/videogamesales\n",
        "\n",
        "\n",
        " #### **Step 1: Setup and Data Loading**\n",
        "\n",
        " Make sure you have uploaded the vgsales.csv file to your Colab environment.\n",
        "\n",
        "* Load the `vgsales.csv` file into a pandas DataFrame named df.\n",
        "* Display the first 5 rows of the DataFrame using `df.head()` to ensure it's loaded correctly.\n"
      ],
      "metadata": {
        "id": "IGXdqXUROjKH"
      }
    },
    {
      "cell_type": "code",
      "source": [
        "file_path = 'vgsales.csv'\n",
        "df = pd.read_csv(file_path)\n",
        "\n",
        "# Display the first few rows\n",
        "print(\"First 5 rows of the dataset:\")\n",
        "df.head()"
      ],
      "metadata": {
        "id": "l3P1qLAtXBSo"
      },
      "execution_count": null,
      "outputs": []
    },
    {
      "cell_type": "markdown",
      "source": [
        "#### **Step 2: Data Cleaning and Initial Exploration**\n",
        "\n",
        "* Use `df.info()` and `df.isnull().sum()` to check for missing values in each column.\n",
        "* Remove the rows with missing values using `df.dropna(inplace = True)`.\n",
        "* The `Year` column is a float but should be an integer. Covert it to int.\n",
        "* Print the info again to confirm your changes."
      ],
      "metadata": {
        "id": "mZNMZwUrVXYs"
      }
    },
    {
      "cell_type": "code",
      "source": [
        "# Your code goes here\n",
        "# Check for missing values\n",
        "print(\"Missing values before cleaning:\")\n",
        "print(df.isnull().sum())\n",
        "\n",
        "# Remove rows with any missing values\n",
        "df.dropna(inplace=True)\n",
        "\n",
        "# Convert 'Year' from float to integer\n",
        "df['Year'] = df['Year'].astype(int)\n",
        "\n",
        "# Check the info after cleaning\n",
        "print(\"\\nDataset info after cleaning:\")\n",
        "df.info()\n"
      ],
      "metadata": {
        "id": "1RU-nWaDVU_Y"
      },
      "execution_count": null,
      "outputs": []
    },
    {
      "cell_type": "code",
      "source": [
        "# Your code goes here"
      ],
      "metadata": {
        "id": "KCe9UXHZWKC5"
      },
      "execution_count": null,
      "outputs": []
    },
    {
      "cell_type": "markdown",
      "source": [
        "#### **Step 3: Answering Analytical Questions**\n",
        "\n",
        "**Question 1:  Which publisher has released the most games?**\n",
        "\n",
        "***Hint:** Use the .value_counts() method on the Publisher column.*\n",
        "\n",
        "**Question 2: Which genre sold the most copies in North America?**\n",
        "\n",
        "***Hint:**  Use .groupby() on the Genre column, select the NA_Sales column, and calculate the .sum().*\n",
        "\n",
        "**Question 3: What is the standard deviation of global sales for the \"Action\" genre?**\n",
        "\n",
        "***Hint:**  First, filter the DataFrame to get only \"Action\" games. Then, select the Global_Sales column and use the .std() method (which uses numpy underneath).*"
      ],
      "metadata": {
        "id": "teHLwPIWNmg_"
      }
    },
    {
      "cell_type": "code",
      "source": [
        "# Your code for Question 1 here\n",
        "most_prolific_publisher = df['Publisher'].value_counts().idxmax()\n",
        "print(f\"The publisher with the most released games is: {most_prolific_publisher}\")"
      ],
      "metadata": {
        "id": "L2S7gBb6W5Ct"
      },
      "execution_count": null,
      "outputs": []
    },
    {
      "cell_type": "code",
      "source": [
        "# Your code for Question 2 here\n",
        "genre_sales_na = df.groupby('Genre')['NA_Sales'].sum().sort_values(ascending=False)\n",
        "print(\"\\nTotal sales in North America by genre:\")\n",
        "print(genre_sales_na)"
      ],
      "metadata": {
        "id": "bjCs0OagXXvk"
      },
      "execution_count": null,
      "outputs": []
    },
    {
      "cell_type": "code",
      "source": [
        "# Your code for Question 3 here\n",
        "action_games = df[df['Genre'] == 'Action']\n",
        "action_sales_std = action_games['Global_Sales'].std()\n",
        "print(f\"\\nThe standard deviation of global sales for Action games is: {action_sales_std:.2f} million\")"
      ],
      "metadata": {
        "id": "JZ4soXvWXaU1"
      },
      "execution_count": null,
      "outputs": []
    },
    {
      "cell_type": "code",
      "source": [
        "\n",
        "top_10_games = df.sort_values(by='Global_Sales', ascending=False).head(10)\n",
        "print(\"\\nTop 10 best-selling games globally:\")\n",
        "print(top_10_games[['Name', 'Platform', 'Year', 'Global_Sales']])\n"
      ],
      "metadata": {
        "id": "JLYU09fUXTsC"
      },
      "execution_count": null,
      "outputs": []
    },
    {
      "cell_type": "markdown",
      "source": [
        "### **Bonus Challenge**\n",
        "\n",
        "Calculate the total global sales for each platform and determine which platform has the highest market share (percentage of total global sales)."
      ],
      "metadata": {
        "id": "V27xXDx5XeXC"
      }
    },
    {
      "cell_type": "code",
      "source": [
        "# Your code for the Bonus Challenge here\n",
        "\n",
        "# Calculate total sales per platform\n",
        "platform_sales = df.groupby('Platform')['Global_Sales'].sum().sort_values(ascending=False)\n",
        "print(\"\\nTotal global sales by platform:\")\n",
        "print(platform_sales)\n",
        "\n",
        "# Calculate total global sales for all games\n",
        "total_global_sales = df['Global_Sales'].sum()\n",
        "\n",
        "# Calculate market share\n",
        "market_share = (platform_sales / total_global_sales) * 100\n",
        "print(\"\\nMarket share by platform (%):\")\n",
        "print(market_share)"
      ],
      "metadata": {
        "id": "BIJkohSoXlDu"
      },
      "execution_count": null,
      "outputs": []
    }
  ]
}