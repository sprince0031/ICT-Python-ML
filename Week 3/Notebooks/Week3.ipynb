{
  "nbformat": 4,
  "nbformat_minor": 0,
  "metadata": {
    "colab": {
      "provenance": []
    },
    "kernelspec": {
      "name": "python3",
      "display_name": "Python 3"
    },
    "language_info": {
      "name": "python"
    }
  },
  "cells": [
    {
      "cell_type": "markdown",
      "source": [
        "<a href=\"https://colab.research.google.com/github/sprince0031/ICT-Python-ML/blob/main/Week%203/Notebooks/Week3.ipynb\" target=\"_parent\"><img src=\"https://colab.research.google.com/assets/colab-badge.svg\" alt=\"Open In Colab\"/></a>\n",
        "\n",
        "# Python & ML Foundations: Session 3\n",
        "## NumPy & Pandas\n",
        "\n",
        "Welcome to the session 3 tutorial and companion notebook! This week, we'll learn to do basic mathematical operations of n-dimensional arrays using NumPy and pre-process a real-world housing dataset that's available in colab's sample folder."
      ],
      "metadata": {
        "id": "PsncOm87G2dw"
      }
    },
    {
      "cell_type": "markdown",
      "source": [
        "## Utility code\n",
        "The below code cell contains any common imports or sample data that can be useful for your exercises. Make sure to run this cell first before starting your exercises!"
      ],
      "metadata": {
        "id": "EuDY4tIMHkKL"
      }
    },
    {
      "cell_type": "code",
      "execution_count": null,
      "metadata": {
        "id": "N53bHilbGlHe"
      },
      "outputs": [],
      "source": [
        "import pandas as pd\n",
        "import numpy as np"
      ]
    },
    {
      "cell_type": "markdown",
      "source": [
        "---\n",
        "# Video Challenges"
      ],
      "metadata": {
        "id": "9y2hDyHsHoTL"
      }
    },
    {
      "cell_type": "markdown",
      "source": [
        "## **1. NumPy**\n",
        "\n",
        "This assignment tests your ability to use NumPy to prepare a dataset for a machine learning task. Use np.random.seed(42) to ensure your results are reproducible.\n",
        "\n",
        "### **Create a Dataset**\n",
        "Create a 10x4 NumPy array representing 10 houses with the following columns:\n",
        "* **Square Footage:** Random integers from 1000 to 3000\n",
        "* **Bedrooms:** Random integers from 2 to 6\n",
        "* **House Age:** Random integers from 1 to 50\n",
        "* **House Price:** Random floats from 150.0 to 750.0\n",
        "\n",
        "Print the resulting array\n",
        "\n",
        "### **Filter the Data**\n",
        "Using boolean indexing, create a new array containing only the houses with more than 3 bedrooms and an age of less than 20 years.\n",
        "\n",
        "Print the filtered array and its `.shape`.\n"
      ],
      "metadata": {
        "id": "QfDRQJJ0Hshx"
      }
    },
    {
      "cell_type": "code",
      "source": [
        "# Your code here\n"
      ],
      "metadata": {
        "id": "ftbMEuCeNmJS"
      },
      "execution_count": null,
      "outputs": []
    },
    {
      "cell_type": "markdown",
      "source": [
        "## **2. Pandas**\n",
        "\n",
        "**Run the Data Corruption Code:**\n",
        "\n",
        "It will load the test dataset and introduce several common data quality issues."
      ],
      "metadata": {
        "id": "3SkAxt8VIFwp"
      }
    },
    {
      "cell_type": "code",
      "source": [
        "# --- RUN THIS CODE FIRST ---\n",
        "# This code will create a corrupted DataFrame for you to fix.\n",
        "\n",
        "# Load the test dataset\n",
        "test_path = '/content/sample_data/california_housing_test.csv'\n",
        "df_challenge = pd.read_csv(test_path)\n",
        "\n",
        "# Introduce NaN values\n",
        "df_challenge.loc[[5, 20, 50], 'total_rooms'] = np.nan\n",
        "df_challenge.loc[[10, 30, 60], 'population'] = np.nan\n",
        "\n",
        "# Introduce extreme outliers\n",
        "df_challenge.loc[[100, 200], 'housing_median_age'] = 999\n",
        "\n",
        "# Introduce incorrect data type\n",
        "df_challenge['households'] = df_challenge['households'].astype(str)\n",
        "\n",
        "print(\"--- Corrupted Dataset is Ready ---\")\n",
        "df_challenge.info()"
      ],
      "metadata": {
        "id": "ZqmSnkD1NoP_"
      },
      "execution_count": null,
      "outputs": []
    },
    {
      "cell_type": "markdown",
      "source": [
        "**Clean the Data**\n",
        "\n",
        "Now, write the code to fix the `df_challenge` DataFrame.\n",
        "\n",
        " * **Inspect the Damage:** After running the code above, use .info() and .describe() to identify all the problems that were introduced.\n",
        "\n",
        " * **Fix Data Types:**  The households column was incorrectly converted to an object (string). Convert it back to a numeric type. Hint: Use pd.to_numeric()\n",
        "\n",
        " * **Handle Missing Values:** Fill the `Nan` values in total_rooms and population with their respective means.\n",
        "\n",
        " * **Handle Outliers:** The `housing_median_age` column now has unrealistic values. Filter the DataFrame to remove any rows where `housing_median_age` is greater than 90.\n",
        "\n",
        " Print the `.info()` and `.describe()` outputs of your final, cleaned DataFrame to prove that all the issues have been resolved."
      ],
      "metadata": {
        "id": "ZzqU2E_wN5GY"
      }
    },
    {
      "cell_type": "code",
      "source": [
        "# Your code here\n"
      ],
      "metadata": {
        "id": "mImIbCpKN5nZ"
      },
      "execution_count": null,
      "outputs": []
    }
  ]
}