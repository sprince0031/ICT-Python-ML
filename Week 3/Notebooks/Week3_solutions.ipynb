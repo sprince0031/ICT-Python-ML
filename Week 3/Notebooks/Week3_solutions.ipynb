{
  "cells": [
    {
      "cell_type": "markdown",
      "metadata": {
        "id": "PsncOm87G2dw"
      },
      "source": [
        "<a href=\"https://colab.research.google.com/github/sprince0031/ICT-Python-ML/blob/main/Week%203/Notebooks/Week3.ipynb\" target=\"_blank\"><img src=\"https://colab.research.google.com/assets/colab-badge.svg\" alt=\"Open In Colab\"/></a>\n",
        "\n",
        "# Python & ML Foundations: Session 3 Solutions\n",
        "## NumPy & Pandas\n",
        "\n",
        "Welcome to the session 3 tutorial and companion notebook! This week, we'll learn to do basic mathematical operations of n-dimensional arrays using NumPy and pre-process a real-world housing dataset that's available in colab's sample folder."
      ]
    },
    {
      "cell_type": "markdown",
      "metadata": {
        "id": "EuDY4tIMHkKL"
      },
      "source": [
        "## Utility code\n",
        "The below code cell contains any common imports or sample data that can be useful for your exercises. Make sure to run this cell first before starting your exercises!"
      ]
    },
    {
      "cell_type": "code",
      "execution_count": null,
      "metadata": {
        "id": "N53bHilbGlHe"
      },
      "outputs": [],
      "source": [
        "import pandas as pd\n",
        "import numpy as np"
      ]
    },
    {
      "cell_type": "markdown",
      "metadata": {
        "id": "9y2hDyHsHoTL"
      },
      "source": [
        "---\n",
        "# Video Challenges"
      ]
    },
    {
      "cell_type": "markdown",
      "metadata": {
        "id": "QfDRQJJ0Hshx"
      },
      "source": [
        "## 1. NumPy\n",
        "\n",
        "This assignment tests your ability to use NumPy to prepare a dataset for a machine learning task. Use `np.random.seed(42)` to ensure your results are reproducible.\n",
        "\n",
        "### Create a Dataset\n",
        "Create a 10x4 NumPy array representing 10 houses with the following columns:\n",
        "* **Square Footage:** Random integers from `1000` to `3000`\n",
        "* **Bedrooms:** Random integers from `2` to `6`\n",
        "* **House Age:** Random integers from `1` to `50`\n",
        "* **House Price:** Random floats from `150.0` to `750.0`\n",
        "\n",
        "Print the resulting array\n",
        "\n",
        "### Filter the Data\n",
        "Using boolean indexing, create a new array containing only the houses with more than 3 bedrooms and an age of less than 20 years.\n",
        "\n",
        "Print the filtered array and its `.shape`.\n"
      ]
    },
    {
      "cell_type": "code",
      "execution_count": null,
      "metadata": {
        "id": "ftbMEuCeNmJS"
      },
      "outputs": [],
      "source": [
        "# Your code here\n",
        "\n",
        "# Create numpy 10x1 arrays for each of the columns\n",
        "sq_footage = np.random.randint(1000, 3001, size = (10,1))\n",
        "bedrooms = np.random.randint(2,7, size = (10,1))\n",
        "house_age = np.random.randint(1,51, size = (10,1))\n",
        "house_price = np.random.uniform(150.0, 750.1, size=(10,1))\n",
        "\n",
        "# Colate the arrays into a single 10x4 array\n",
        "house_data = np.hstack((sq_footage, bedrooms, house_age, house_price))\n",
        "\n",
        "print(f'Full house data:\\n{house_data}')"
      ]
    },
    {
      "cell_type": "code",
      "execution_count": null,
      "metadata": {},
      "outputs": [],
      "source": [
        "# Filter data\n",
        "more_than_3_bedrooms = house_data[:,1] > 3\n",
        "age_less_than_20 = house_data[:,2] < 20\n",
        "\n",
        "combined_filter = more_than_3_bedrooms & age_less_than_20\n",
        "\n",
        "filtered_houses = house_data[combined_filter]\n",
        "\n",
        "# Print filtered numpy array and its shape\n",
        "print(f'Filtered house data:\\n{filtered_houses}')\n",
        "print(f'Shape of filtered data: {filtered_houses.shape}')"
      ]
    },
    {
      "cell_type": "markdown",
      "metadata": {
        "id": "3SkAxt8VIFwp"
      },
      "source": [
        "## 2. Pandas\n",
        "\n",
        "**Run the Data Corruption Code:**\n",
        "\n",
        "It will load the test dataset and introduce several common data quality issues."
      ]
    },
    {
      "cell_type": "code",
      "execution_count": null,
      "metadata": {
        "id": "ZqmSnkD1NoP_"
      },
      "outputs": [],
      "source": [
        "# --- RUN THIS CODE FIRST ---\n",
        "# This code will create a corrupted DataFrame for you to fix.\n",
        "\n",
        "# Load the test dataset\n",
        "test_path = '/content/sample_data/california_housing_test.csv'\n",
        "df_challenge = pd.read_csv(test_path)\n",
        "\n",
        "# Introduce NaN values\n",
        "df_challenge.loc[[5, 20, 50], 'total_rooms'] = np.nan\n",
        "df_challenge.loc[[10, 30, 60], 'population'] = np.nan\n",
        "\n",
        "# Introduce extreme outliers\n",
        "df_challenge.loc[[100, 200], 'housing_median_age'] = 999\n",
        "\n",
        "# Introduce incorrect data type\n",
        "df_challenge['households'] = df_challenge['households'].astype(str)\n",
        "\n",
        "print(\"--- Corrupted Dataset is Ready ---\")\n",
        "df_challenge.info()"
      ]
    },
    {
      "cell_type": "markdown",
      "metadata": {
        "id": "ZzqU2E_wN5GY"
      },
      "source": [
        "**Clean the Data**\n",
        "\n",
        "Now, write the code to fix the `df_challenge` DataFrame.\n",
        "\n",
        " * **Inspect the Damage:** After running the code above, use `.info()` and `.describe()` to identify all the problems that were introduced.\n",
        "\n",
        " * **Fix Data Types:**  The households column was incorrectly converted to an object (string). Convert it back to a numeric type. Hint: Use `pd.to_numeric()`\n",
        "\n",
        " * **Handle Missing Values:** Fill the `Nan` values in `total_rooms` and population with their respective means.\n",
        "\n",
        " * **Handle Outliers:** The `housing_median_age` column now has unrealistic values. Filter the DataFrame to remove any rows where `housing_median_age` is greater than `90`.\n",
        "\n",
        " Print the `.info()` and `.describe()` outputs of your final, cleaned DataFrame to prove that all the issues have been resolved."
      ]
    },
    {
      "cell_type": "code",
      "execution_count": null,
      "metadata": {
        "id": "mImIbCpKN5nZ"
      },
      "outputs": [],
      "source": [
        "# Finding data types of all columns\n",
        "df_challenge.info()"
      ]
    },
    {
      "cell_type": "code",
      "execution_count": null,
      "metadata": {},
      "outputs": [],
      "source": [
        "# Finding counts and stats of columns\n",
        "df_challenge.describe()"
      ]
    },
    {
      "cell_type": "code",
      "execution_count": null,
      "metadata": {},
      "outputs": [],
      "source": [
        "# Fixing incorrect datatype of `object`(string) to `float`\n",
        "df_challenge['households'] = df_challenge['households'].astype(float)\n",
        "\n",
        "# Verifying the datatype change\n",
        "df_challenge.info()"
      ]
    },
    {
      "cell_type": "code",
      "execution_count": null,
      "metadata": {},
      "outputs": [],
      "source": [
        "# Plugging missing values with mean of respective columns\n",
        "total_rooms_mean = df_challenge['total_rooms'].mean()\n",
        "population_mean = df_challenge['population'].mean()\n",
        "\n",
        "df_challenge.fillna({'total_rooms': total_rooms_mean, 'population': population_mean}, inplace = True)\n",
        "\n",
        "# Verifying that the values have been filled\n",
        "df_challenge.info()"
      ]
    },
    {
      "cell_type": "code",
      "execution_count": null,
      "metadata": {},
      "outputs": [],
      "source": [
        "# Checking for outliers in `housing_median_age` i.e., >= 90 years of age which would be rare and implausible\n",
        "print(df_challenge[df_challenge['housing_median_age']>=90])\n",
        "\n",
        "# Filtering out the outliers\n",
        "df_filtered = df_challenge[df_challenge['housing_median_age'] < 90]\n",
        "\n",
        "df_filtered.info()"
      ]
    },
    {
      "cell_type": "code",
      "execution_count": null,
      "metadata": {},
      "outputs": [],
      "source": [
        "# Verifying the outliers have been removed\n",
        "print(df_filtered[df_filtered['housing_median_age']>=90])"
      ]
    },
    {
      "cell_type": "markdown",
      "metadata": {},
      "source": [
        "---\n",
        "# Practice Challenges"
      ]
    },
    {
      "cell_type": "markdown",
      "metadata": {},
      "source": [
        "## Video Game Sales Analysis\n",
        "\n",
        "This exercise will guide you through a basic data analysis project to practice your data loading, cleaning, and exploration skills using pandas for data manipulation and numpy for numerical calculations.\n",
        "\n",
        " We will be using the Video Game Sales dataset from Kaggle.\n",
        " * You can download it here: https://www.kaggle.com/datasets/gregorut/videogamesales\n",
        "\n",
        "\n",
        "### Step 1: Setup and Data Loading\n",
        "\n",
        " Make sure you have uploaded the `vgsales.csv` file to your Colab environment.\n",
        "\n",
        "* Load the `vgsales.csv` file into a pandas DataFrame named df.\n",
        "* Display the first 5 rows of the DataFrame using `df.head()` to ensure it's loaded correctly.\n"
      ]
    },
    {
      "cell_type": "code",
      "execution_count": null,
      "metadata": {},
      "outputs": [],
      "source": [
        "file_path = 'vgsales.csv'\n",
        "df = pd.read_csv(file_path)\n",
        "\n",
        "# Display the first few rows\n",
        "print(\"First 5 rows of the dataset:\")\n",
        "df.head()"
      ]
    },
    {
      "cell_type": "markdown",
      "metadata": {},
      "source": [
        "### Step 2: Data Cleaning and Initial Exploration\n",
        "\n",
        "* Use `df.info()` and `df.isnull().sum()` to check for missing values in each column.\n",
        "* Remove the rows with missing values using `df.dropna(inplace = True)`.\n",
        "* The `Year` column is a float but should be an integer. Covert it to int.\n",
        "* Print the info again to confirm your changes."
      ]
    },
    {
      "cell_type": "code",
      "execution_count": null,
      "metadata": {},
      "outputs": [],
      "source": [
        "# Check for missing values\n",
        "print(\"Missing values before cleaning:\")\n",
        "print(df.isnull().sum())\n",
        "\n",
        "# Remove rows with any missing values\n",
        "df.dropna(inplace=True)\n",
        "\n",
        "# Convert 'Year' from float to integer\n",
        "df['Year'] = df['Year'].astype(int)\n",
        "\n",
        "# Check the info after cleaning\n",
        "print(\"\\nDataset info after cleaning:\")\n",
        "df.info()\n"
      ]
    },
    {
      "cell_type": "markdown",
      "metadata": {},
      "source": [
        "### Step 3: Answering Analytical Questions\n",
        "\n",
        "**Question 1:  Which publisher has released the most games?**\n",
        "\n",
        "***Hint:*** Use the .value_counts() method on the Publisher column.\n",
        "\n",
        "**Question 2: Which genre sold the most copies in North America?**\n",
        "\n",
        "***Hint:***  Use .groupby() on the Genre column, select the NA_Sales column, and calculate the .sum().\n",
        "\n",
        "**Question 3: What is the standard deviation of global sales for the \"Action\" genre?**\n",
        "\n",
        "***Hint:***  First, filter the DataFrame to get only \"Action\" games. Then, select the Global_Sales column and use the .std() method (which uses numpy underneath)."
      ]
    },
    {
      "cell_type": "code",
      "execution_count": null,
      "metadata": {},
      "outputs": [],
      "source": [
        "# Question 1: Which publisher has released the most games?\n",
        "most_prolific_publisher = df['Publisher'].value_counts().idxmax()\n",
        "print(f\"The publisher with the most released games is: {most_prolific_publisher}\")"
      ]
    },
    {
      "cell_type": "code",
      "execution_count": null,
      "metadata": {},
      "outputs": [],
      "source": [
        "# Question 2: Which genre has the highest total sales in North America?\n",
        "genre_sales_na = df.groupby('Genre')['NA_Sales'].sum().sort_values(ascending=False)\n",
        "print(\"\\nTotal sales in North America by genre:\")\n",
        "print(genre_sales_na)"
      ]
    },
    {
      "cell_type": "code",
      "execution_count": null,
      "metadata": {},
      "outputs": [],
      "source": [
        "# Question 3: What is the standard deviation of global sales for Action games?\n",
        "action_games = df[df['Genre'] == 'Action']\n",
        "action_sales_std = action_games['Global_Sales'].std()\n",
        "print(f\"\\nThe standard deviation of global sales for Action games is: {action_sales_std:.2f} million\")"
      ]
    },
    {
      "cell_type": "markdown",
      "metadata": {},
      "source": [
        "## Bonus Challenge\n",
        "\n",
        "Calculate the total global sales for each platform and determine which platform has the highest market share (percentage of total global sales)."
      ]
    },
    {
      "cell_type": "code",
      "execution_count": null,
      "metadata": {},
      "outputs": [],
      "source": [
        "# Calculate total sales per platform\n",
        "platform_sales = df.groupby('Platform')['Global_Sales'].sum().sort_values(ascending=False)\n",
        "print(\"\\nTotal global sales by platform:\")\n",
        "print(platform_sales)\n",
        "\n",
        "# Calculate total global sales for all games\n",
        "total_global_sales = df['Global_Sales'].sum()\n",
        "\n",
        "# Calculate market share\n",
        "market_share = (platform_sales / total_global_sales) * 100\n",
        "print(\"\\nMarket share by platform (%):\")\n",
        "print(market_share)"
      ]
    }
  ],
  "metadata": {
    "colab": {
      "provenance": []
    },
    "kernelspec": {
      "display_name": "Python 3",
      "name": "python3"
    },
    "language_info": {
      "codemirror_mode": {
        "name": "ipython",
        "version": 3
      },
      "file_extension": ".py",
      "mimetype": "text/x-python",
      "name": "python",
      "nbconvert_exporter": "python",
      "pygments_lexer": "ipython3",
      "version": "3.12.10"
    }
  },
  "nbformat": 4,
  "nbformat_minor": 0
}
