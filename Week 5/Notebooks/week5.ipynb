{
  "cells": [
    {
      "cell_type": "markdown",
      "id": "header",
      "metadata": {},
      "source": [
        "<a href=\"https://colab.research.google.com/github/sprince0031/ICT-Python-ML/blob/main/Week%205/Notebooks/week5.ipynb\" target=\"_blank\"><img src=\"https://colab.research.google.com/assets/colab-badge.svg\" alt=\"Open In Colab\"/></a>\n",
        "\n",
        "# Python and ML Foundations: Session 5\n",
        "## Perceptrons, MLPs & Advanced Metrics\n",
        "\n",
        "Welcome to the session 5 practice notebook! Complete the following challenges to reinforce your learning."
      ]
    },
    {
      "cell_type": "markdown",
      "id": "utility_header",
      "metadata": {},
      "source": [
        "## Utility code\n",
        "Run the cell below to import necessary libraries:"
      ]
    },
    {
      "cell_type": "code",
      "execution_count": null,
      "id": "imports",
      "metadata": {},
      "outputs": [],
      "source": [
        "import numpy as np\n",
        "import pandas as pd\n",
        "import matplotlib.pyplot as plt\n",
        "import seaborn as sns\n",
        "from sklearn.model_selection import train_test_split\n",
        "from sklearn.preprocessing import StandardScaler\n",
        "from sklearn.linear_model import Perceptron\n",
        "from sklearn.neural_network import MLPClassifier, MLPRegressor\n",
        "from sklearn.metrics import accuracy_score, precision_score, recall_score, f1_score\n",
        "from sklearn.metrics import confusion_matrix, classification_report, mean_squared_error, r2_score\n",
        "from sklearn.datasets import load_diabetes, make_classification\n",
        "\n",
        "sns.set_style('whitegrid')\n",
        "np.random.seed(42)"
      ]
    },
    {
      "cell_type": "markdown",
      "id": "separator_1",
      "metadata": {},
      "source": [
        "---\n",
        "# Video Challenges"
      ]
    },
    {
      "cell_type": "markdown",
      "id": "video1_header",
      "metadata": {},
      "source": [
        "## Video 1: Perceptrons and MLPs\n",
        "\n",
        "### Challenge: Implement NAND Gate with MLP\n",
        "\n",
        "The NAND gate is a fundamental logic gate. The output is 0 (False) ONLY when both inputs are 1 (True), otherwise it's 1 (True).\n",
        "\n",
        "**NAND Truth Table:**\n",
        "```\n",
        "Input A | Input B | Output\n",
        "--------|---------|--------\n",
        "   0    |    0    |   1\n",
        "   0    |    1    |   1\n",
        "   1    |    0    |   1\n",
        "   1    |    1    |   0\n",
        "```\n",
        "\n",
        "**Your tasks:**\n",
        "1. Create the NAND dataset\n",
        "2. Try training a Perceptron on NAND\n",
        "3. Train an MLP on NAND\n",
        "4. Compare their performance\n",
        "\n",
        "**Hint:** NAND is linearly separable, so even a Perceptron should work!"
      ]
    },
    {
      "cell_type": "code",
      "execution_count": null,
      "id": "video1_ex1",
      "metadata": {},
      "outputs": [],
      "source": [
        "# Task 1: Create the NAND dataset\n",
        "# Define X_nand and y_nand arrays\n"
      ]
    },
    {
      "cell_type": "code",
      "execution_count": null,
      "id": "video1_ex2",
      "metadata": {},
      "outputs": [],
      "source": [
        "# Task 2: Train a Perceptron on NAND\n",
        "# Create a Perceptron, fit it, and evaluate\n"
      ]
    },
    {
      "cell_type": "code",
      "execution_count": null,
      "id": "video1_ex3",
      "metadata": {},
      "outputs": [],
      "source": [
        "# Task 3: Train an MLP on NAND\n",
        "# Create an MLPClassifier with hidden layers, fit it, and evaluate\n"
      ]
    },
    {
      "cell_type": "code",
      "execution_count": null,
      "id": "video1_ex4",
      "metadata": {},
      "outputs": [],
      "source": [
        "# Task 4: Compare and discuss the results\n",
        "# Print predictions and accuracies for both models\n"
      ]
    },
    {
      "cell_type": "markdown",
      "id": "video2_header",
      "metadata": {},
      "source": [
        "---\n",
        "## Video 2: MLPs for Regression and Classification\n",
        "\n",
        "### Challenge: Compare Activations on California Housing Dataset\n",
        "\n",
        "Use the California Housing dataset to compare MLP regressors with different activation functions.\n",
        "\n",
        "**Your tasks:**\n",
        "1. Load the California Housing dataset from sklearn\n",
        "2. Split and scale the data\n",
        "3. Train an MLP regressor with identity (linear) activation\n",
        "4. Train an MLP regressor with tanh activation\n",
        "5. Compare their R² scores\n",
        "6. Visualize predictions vs actual values for both\n",
        "\n",
        "**Hint:** Use `from sklearn.datasets import fetch_california_housing`"
      ]
    },
    {
      "cell_type": "code",
      "execution_count": null,
      "id": "video2_ex1",
      "metadata": {},
      "outputs": [],
      "source": [
        "# Task 1: Load California Housing dataset\n",
        "from sklearn.datasets import fetch_california_housing\n",
        "# Load the dataset and create X and y\n"
      ]
    },
    {
      "cell_type": "code",
      "execution_count": null,
      "id": "video2_ex2",
      "metadata": {},
      "outputs": [],
      "source": [
        "# Task 2: Split and scale the data\n",
        "# Use train_test_split and StandardScaler\n"
      ]
    },
    {
      "cell_type": "code",
      "execution_count": null,
      "id": "video2_ex3",
      "metadata": {},
      "outputs": [],
      "source": [
        "# Task 3: Train MLP with identity activation\n",
        "# Create MLPRegressor with activation='identity'\n"
      ]
    },
    {
      "cell_type": "code",
      "execution_count": null,
      "id": "video2_ex4",
      "metadata": {},
      "outputs": [],
      "source": [
        "# Task 4: Train MLP with tanh activation\n",
        "# Create MLPRegressor with activation='tanh'\n"
      ]
    },
    {
      "cell_type": "code",
      "execution_count": null,
      "id": "video2_ex5",
      "metadata": {},
      "outputs": [],
      "source": [
        "# Task 5: Compare R² scores\n",
        "# Calculate and print R² for both models\n"
      ]
    },
    {
      "cell_type": "code",
      "execution_count": null,
      "id": "video2_ex6",
      "metadata": {},
      "outputs": [],
      "source": [
        "# Task 6: Visualize predictions vs actual\n",
        "# Create scatter plots comparing predictions with actual values\n"
      ]
    },
    {
      "cell_type": "markdown",
      "id": "video3_header",
      "metadata": {},
      "source": [
        "---\n",
        "## Video 3: Advanced Metrics\n",
        "\n",
        "### Challenge: Analyze Credit Card Fraud Detection Metrics\n",
        "\n",
        "Imagine you're building a credit card fraud detection system. You have a highly imbalanced dataset where only 2% of transactions are fraudulent.\n",
        "\n",
        "**Your tasks:**\n",
        "1. Create an imbalanced dataset (98% legitimate, 2% fraud)\n",
        "2. Train an MLP classifier\n",
        "3. Generate and visualize the confusion matrix\n",
        "4. Manually calculate precision, recall, and F1-score\n",
        "5. Display the classification report\n",
        "6. Explain which metric is most important for fraud detection and why\n",
        "\n",
        "**Hint:** Use `make_classification` with `weights=[0.98, 0.02]`"
      ]
    },
    {
      "cell_type": "code",
      "execution_count": null,
      "id": "video3_ex1",
      "metadata": {},
      "outputs": [],
      "source": [
        "# Task 1: Create imbalanced dataset\n",
        "# Use make_classification with appropriate weights\n"
      ]
    },
    {
      "cell_type": "code",
      "execution_count": null,
      "id": "video3_ex2",
      "metadata": {},
      "outputs": [],
      "source": [
        "# Task 2: Train MLP classifier\n",
        "# Split data, scale, and train an MLPClassifier\n"
      ]
    },
    {
      "cell_type": "code",
      "execution_count": null,
      "id": "video3_ex3",
      "metadata": {},
      "outputs": [],
      "source": [
        "# Task 3: Generate and visualize confusion matrix\n",
        "# Use confusion_matrix and create a heatmap\n"
      ]
    },
    {
      "cell_type": "code",
      "execution_count": null,
      "id": "video3_ex4",
      "metadata": {},
      "outputs": [],
      "source": [
        "# Task 4: Manually calculate precision, recall, F1-score\n",
        "# Extract TP, TN, FP, FN from confusion matrix and calculate metrics\n"
      ]
    },
    {
      "cell_type": "code",
      "execution_count": null,
      "id": "video3_ex5",
      "metadata": {},
      "outputs": [],
      "source": [
        "# Task 5: Display classification report\n",
        "# Use classification_report\n"
      ]
    },
    {
      "cell_type": "markdown",
      "id": "video3_discussion",
      "metadata": {},
      "source": [
        "### Task 6: Discussion\n",
        "\n",
        "Answer the following questions:\n",
        "\n",
        "1. **Which metric is most important for fraud detection?**\n",
        "   - Your answer:\n",
        "\n",
        "2. **Why is accuracy not sufficient for this problem?**\n",
        "   - Your answer:\n",
        "\n",
        "3. **What's worse in fraud detection: False Positives or False Negatives?**\n",
        "   - Your answer:\n",
        "\n",
        "4. **How would you improve the model to better detect fraud?**\n",
        "   - Your answer:"
      ]
    }
  ],
  "metadata": {
    "kernelspec": {
      "display_name": "Python 3",
      "language": "python",
      "name": "python3"
    },
    "language_info": {
      "codemirror_mode": {
        "name": "ipython",
        "version": 3
      },
      "file_extension": ".py",
      "mimetype": "text/x-python",
      "name": "python",
      "nbconvert_exporter": "python",
      "pygments_lexer": "ipython3",
      "version": "3.12.10"
    },
    "colab": {
      "provenance": []
    }
  },
  "nbformat": 4,
  "nbformat_minor": 5
}
